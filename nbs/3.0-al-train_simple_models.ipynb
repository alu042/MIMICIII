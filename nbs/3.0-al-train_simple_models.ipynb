{
 "cells": [
  {
   "cell_type": "markdown",
   "metadata": {},
   "source": [
    "# Train simple models for prediction of In-hospital mortality"
   ]
  },
  {
   "cell_type": "markdown",
   "metadata": {},
   "source": [
    "- Logistic regression\n",
    "- Random forest\n",
    "- XGBoost"
   ]
  },
  {
   "cell_type": "code",
   "execution_count": 8,
   "metadata": {},
   "outputs": [],
   "source": [
    "%matplotlib inline\n",
    "%reload_ext autoreload\n",
    "%autoreload 2"
   ]
  },
  {
   "cell_type": "code",
   "execution_count": 9,
   "metadata": {},
   "outputs": [],
   "source": [
    "from fastai.structured import *\n",
    "from fastai.column_data import *\n",
    "import yaml\n",
    "from pandas import DataFrame, Series\n",
    "import shutil"
   ]
  },
  {
   "cell_type": "code",
   "execution_count": 10,
   "metadata": {},
   "outputs": [],
   "source": [
    "from sklearn.preprocessing import Imputer, StandardScaler"
   ]
  },
  {
   "cell_type": "code",
   "execution_count": 11,
   "metadata": {},
   "outputs": [],
   "source": [
    "NB_DIR = %pwd"
   ]
  },
  {
   "cell_type": "code",
   "execution_count": 12,
   "metadata": {},
   "outputs": [],
   "source": [
    "RAW_DATA = '/data1/MIMIC-III/RAW/'\n",
    "INTERIM_DATA = f'{RAW_DATA}/../interim/'\n",
    "PROCESSED_DATA = f'{RAW_DATA}/../processed/'"
   ]
  },
  {
   "cell_type": "code",
   "execution_count": 13,
   "metadata": {},
   "outputs": [],
   "source": [
    "MIMIC3_BENCHMARK_LOCATION = f'{NB_DIR}/../mimic3-benchmarks/'"
   ]
  },
  {
   "cell_type": "markdown",
   "metadata": {},
   "source": [
    "# Train-validation split"
   ]
  },
  {
   "cell_type": "code",
   "execution_count": 14,
   "metadata": {},
   "outputs": [],
   "source": [
    "task='in-hospital-mortality'"
   ]
  },
  {
   "cell_type": "code",
   "execution_count": 15,
   "metadata": {},
   "outputs": [],
   "source": [
    "val_patients = set()\n",
    "with open(f\"{MIMIC3_BENCHMARK_LOCATION}/mimic3models/valset.csv\", \"r\") as valset_file:\n",
    "    for line in valset_file:\n",
    "        x, y = line.split(',')\n",
    "        if int(y) == 1:\n",
    "            val_patients.add(x)"
   ]
  },
  {
   "cell_type": "code",
   "execution_count": 16,
   "metadata": {},
   "outputs": [],
   "source": [
    "with open(f\"{PROCESSED_DATA}/{task}/train/listfile.csv\") as listfile:\n",
    "    lines = listfile.readlines()\n",
    "    header = lines[0]\n",
    "    lines = lines[1:]"
   ]
  },
  {
   "cell_type": "code",
   "execution_count": 17,
   "metadata": {},
   "outputs": [],
   "source": [
    "train_lines = [x for x in lines if x[:x.find(\"_\")] not in val_patients]\n",
    "val_lines = [x for x in lines if x[:x.find(\"_\")] in val_patients]\n",
    "assert len(train_lines) + len(val_lines) == len(lines)"
   ]
  },
  {
   "cell_type": "code",
   "execution_count": 18,
   "metadata": {},
   "outputs": [],
   "source": [
    "with open(f\"{PROCESSED_DATA}/{task}/train_listfile.csv\", \"w\") as train_listfile:\n",
    "    train_listfile.write(header)\n",
    "    for line in train_lines:\n",
    "        train_listfile.write(line)"
   ]
  },
  {
   "cell_type": "code",
   "execution_count": 19,
   "metadata": {},
   "outputs": [],
   "source": [
    "with open(f\"{PROCESSED_DATA}/{task}/val_listfile.csv\", \"w\") as val_listfile:\n",
    "    val_listfile.write(header)\n",
    "    for line in val_lines:\n",
    "        val_listfile.write(line)"
   ]
  },
  {
   "cell_type": "code",
   "execution_count": 20,
   "metadata": {},
   "outputs": [
    {
     "data": {
      "text/plain": [
       "'/data1/MIMIC-III/RAW//../processed//in-hospital-mortality/test_listfile.csv'"
      ]
     },
     "execution_count": 20,
     "metadata": {},
     "output_type": "execute_result"
    }
   ],
   "source": [
    "shutil.copy(f\"{PROCESSED_DATA}/{task}/test/listfile.csv\",\n",
    "            f\"{PROCESSED_DATA}/{task}/test_listfile.csv\")"
   ]
  },
  {
   "cell_type": "markdown",
   "metadata": {},
   "source": [
    "## Read and extract features"
   ]
  },
  {
   "cell_type": "code",
   "execution_count": 21,
   "metadata": {},
   "outputs": [],
   "source": [
    "def read_chunk(reader, chunk_size):\n",
    "    data = {}\n",
    "    for i in range(chunk_size):\n",
    "        ret = reader.read_next()\n",
    "        for k, v in iter(ret.items()):\n",
    "            if k not in data:\n",
    "                data[k] = []\n",
    "            data[k].append(v)\n",
    "    data[\"header\"] = data[\"header\"][0]\n",
    "    return data"
   ]
  },
  {
   "cell_type": "code",
   "execution_count": 22,
   "metadata": {},
   "outputs": [],
   "source": [
    "def extract_features_from_rawdata(chunk, header, period, features):\n",
    "    with open(os.path.join(f'{MIMIC3_BENCHMARK_LOCATION}/resources/', \"channel_info.json\")) as channel_info_file:\n",
    "        channel_info = json.loads(channel_info_file.read())\n",
    "    data = [convert_to_dict(X, header, channel_info) for X in chunk]\n",
    "    return extract_features(data, period, features)"
   ]
  },
  {
   "cell_type": "code",
   "execution_count": 23,
   "metadata": {},
   "outputs": [],
   "source": [
    "def convert_to_dict(data, header, channel_info):\n",
    "    \"\"\" convert data from readers output in to array of arrays format \"\"\"\n",
    "    ret = [[] for i in range(data.shape[1] - 1)]\n",
    "    for i in range(1, data.shape[1]):\n",
    "        ret[i-1] = [(t, x) for (t, x) in zip(data[:, 0], data[:, i]) if x != \"\"]\n",
    "        channel = header[i]\n",
    "        if (len(channel_info[channel]['possible_values']) != 0):\n",
    "            ret[i-1] = list(map(lambda x: (x[0], channel_info[channel]['values'][x[1]]), ret[i-1])) # list(..) for Python3\n",
    "        ret[i-1] = list(map(lambda x: (float(x[0]), float(x[1])), ret[i-1]))\n",
    "    return ret"
   ]
  },
  {
   "cell_type": "code",
   "execution_count": 24,
   "metadata": {},
   "outputs": [],
   "source": [
    "import numpy as np\n",
    "from scipy.stats import skew\n",
    "\n",
    "all_functions = [min, max, np.mean, np.std, skew, len]\n",
    "\n",
    "functions_map = {\n",
    "    \"all\": all_functions,\n",
    "    \"len\": [len],\n",
    "    \"all_but_len\": all_functions[:-1]\n",
    "}\n",
    "\n",
    "periods_map = {\n",
    "    \"all\": (0, 0, 1, 0),\n",
    "    \"first4days\": (0, 0, 0, 4 * 24),\n",
    "    \"first8days\": (0, 0, 0, 8 * 24),\n",
    "    \"last12hours\": (1, -12, 1, 0),\n",
    "    \"first25percent\": (2, 25),\n",
    "    \"first50percent\": (2, 50)\n",
    "}\n",
    "\n",
    "sub_periods = [(2, 100), (2, 10), (2, 25), (2, 50),\n",
    "               (3, 10), (3, 25), (3, 50)]\n",
    "\n",
    "\n",
    "def get_range(begin, end, period):\n",
    "    # first p %\n",
    "    if period[0] == 2:\n",
    "        return (begin, begin + (end - begin) * period[1] / 100.0)\n",
    "    # last p %\n",
    "    if period[0] == 3:\n",
    "        return (end - (end - begin) * period[1] / 100.0, end)\n",
    "\n",
    "    if period[0] == 0:\n",
    "        L = begin + period[1]\n",
    "    else:\n",
    "        L = end + period[1]\n",
    "\n",
    "    if period[2] == 0:\n",
    "        R = begin + period[3]\n",
    "    else:\n",
    "        R = end + period[3]\n",
    "\n",
    "    return (L, R)\n",
    "\n",
    "\n",
    "def calculate(channel_data, period, sub_period, functions):\n",
    "    if len(list(channel_data)) == 0:\n",
    "        return np.full((len(functions, )), np.nan)\n",
    "\n",
    "    L = channel_data[0][0]\n",
    "    R = channel_data[-1][0]\n",
    "    L, R = get_range(L, R, period)\n",
    "    L, R = get_range(L, R, sub_period)\n",
    "\n",
    "    data = [x for (t, x) in channel_data\n",
    "            if L - 1e-6 < t < R + 1e-6]\n",
    "\n",
    "    if len(data) == 0:\n",
    "        return np.full((len(functions, )), np.nan)\n",
    "    return np.array([fn(data) for fn in functions], dtype=np.float32)\n",
    "\n",
    "\n",
    "def extract_features_single_episode(data_raw, period, functions):\n",
    "    global sub_periods\n",
    "    extracted_features = [np.concatenate([calculate(data_raw[i], period, sub_period, functions)\n",
    "                                          for sub_period in sub_periods],\n",
    "                                         axis=0)\n",
    "                          for i in range(len(data_raw))]\n",
    "    return np.concatenate(extracted_features, axis=0)\n",
    "\n",
    "\n",
    "def extract_features(data_raw, period, features):\n",
    "    period = periods_map[period]\n",
    "    functions = functions_map[features]\n",
    "    return np.array([extract_features_single_episode(x, period, functions)\n",
    "                     for x in data_raw])"
   ]
  },
  {
   "cell_type": "code",
   "execution_count": 25,
   "metadata": {},
   "outputs": [],
   "source": [
    "def read_and_extract_features(reader, period, features):\n",
    "    ret = read_chunk(reader, reader.get_number_of_examples())\n",
    "    # ret = common_utils.read_chunk(reader, 100)\n",
    "    X = extract_features_from_rawdata(ret['X'], ret['header'], period, features)\n",
    "    return (X, ret['y'], ret['name'])"
   ]
  },
  {
   "cell_type": "markdown",
   "metadata": {},
   "source": [
    "## Data readers"
   ]
  },
  {
   "cell_type": "code",
   "execution_count": 26,
   "metadata": {},
   "outputs": [],
   "source": [
    "period = \"all\" # choices=['first4days', 'first8days', 'last12hours', 'first25percent', 'first50percent', 'all']\n",
    "features = \"all\" # choices=['all', 'len', 'all_but_len']"
   ]
  },
  {
   "cell_type": "code",
   "execution_count": 27,
   "metadata": {},
   "outputs": [],
   "source": [
    "class Reader(object):\n",
    "    def __init__(self, dataset_dir, listfile=None):\n",
    "        self._dataset_dir = dataset_dir\n",
    "        self._current_index = 0\n",
    "        if listfile is None:\n",
    "            listfile_path = os.path.join(dataset_dir, \"listfile.csv\")\n",
    "        else:\n",
    "            listfile_path = listfile\n",
    "        with open(listfile_path, \"r\") as lfile:\n",
    "            self._data = lfile.readlines()\n",
    "        self._listfile_header = self._data[0]\n",
    "        self._data = self._data[1:]\n",
    "\n",
    "    def get_number_of_examples(self):\n",
    "        return len(self._data)\n",
    "\n",
    "    def random_shuffle(self, seed=None):\n",
    "        if (seed is not None):\n",
    "            random.seed(seed)\n",
    "        random.shuffle(self._data)\n",
    "\n",
    "    def read_example(self, index):\n",
    "        raise NotImplementedError()\n",
    "\n",
    "    def read_next(self):\n",
    "        to_read_index = self._current_index\n",
    "        self._current_index += 1\n",
    "        if (self._current_index == self.get_number_of_examples()):\n",
    "            self._current_index = 0\n",
    "        return self.read_example(to_read_index)"
   ]
  },
  {
   "cell_type": "code",
   "execution_count": 28,
   "metadata": {},
   "outputs": [],
   "source": [
    "class InHospitalMortalityReader(Reader):\n",
    "    def __init__(self, dataset_dir, listfile=None, period_length=48.0):\n",
    "        \"\"\" Reader for in-hospital moratality prediction task.\n",
    "        :param dataset_dir:   Directory where timeseries files are stored.\n",
    "        :param listfile:      Path to a listfile. If this parameter is left `None` then\n",
    "                              `dataset_dir/listfile.csv` will be used.\n",
    "        :param period_length: Length of the period (in hours) from which the prediction is done.\n",
    "        \"\"\"\n",
    "        Reader.__init__(self, dataset_dir, listfile)\n",
    "        self._data = [line.split(',') for line in self._data]\n",
    "        self._data = [(x, int(y)) for (x, y) in self._data]\n",
    "        self._period_length = period_length\n",
    "\n",
    "    def _read_timeseries(self, ts_filename):\n",
    "        ret = []\n",
    "        with open(os.path.join(self._dataset_dir, ts_filename), \"r\") as tsfile:\n",
    "            header = tsfile.readline().strip().split(',')\n",
    "            assert header[0] == \"Hours\"\n",
    "            for line in tsfile:\n",
    "                mas = line.strip().split(',')\n",
    "                ret.append(np.array(mas))\n",
    "        return (np.stack(ret), header)\n",
    "\n",
    "    def read_example(self, index):\n",
    "        \"\"\" Reads the example with given index.\n",
    "        :param index: Index of the line of the listfile to read (counting starts from 0).\n",
    "        :return: Dictionary with the following keys:\n",
    "            X : np.array\n",
    "                2D array containing all events. Each row corresponds to a moment.\n",
    "                First column is the time and other columns correspond to different\n",
    "                variables.\n",
    "            t : float\n",
    "                Length of the data in hours. Note, in general, it is not equal to the\n",
    "                timestamp of last event.\n",
    "            y : int (0 or 1)\n",
    "                In-hospital mortality.\n",
    "            header : array of strings\n",
    "                Names of the columns. The ordering of the columns is always the same.\n",
    "            name: Name of the sample.\n",
    "        \"\"\"\n",
    "        if (index < 0 or index >= len(self._data)):\n",
    "            raise ValueError(\"Index must be from 0 (inclusive) to number of lines (exclusive).\")\n",
    "\n",
    "        name = self._data[index][0]\n",
    "        t = self._period_length\n",
    "        y = self._data[index][1]\n",
    "        (X, header) = self._read_timeseries(name)\n",
    "\n",
    "        return {\"X\": X,\n",
    "                \"t\": t,\n",
    "                \"y\": y,\n",
    "                \"header\": header,\n",
    "                \"name\": name}\n"
   ]
  },
  {
   "cell_type": "code",
   "execution_count": 29,
   "metadata": {},
   "outputs": [],
   "source": [
    "train_reader = InHospitalMortalityReader(dataset_dir=f'{PROCESSED_DATA}/in-hospital-mortality/train/',\n",
    "                                             listfile=f'{PROCESSED_DATA}/in-hospital-mortality/train_listfile.csv',\n",
    "                                             period_length=48.0)\n",
    "\n",
    "val_reader = InHospitalMortalityReader(dataset_dir=f'{PROCESSED_DATA}/in-hospital-mortality/train/',\n",
    "                                           listfile=f'{PROCESSED_DATA}/in-hospital-mortality/val_listfile.csv',\n",
    "                                           period_length=48.0)\n",
    "\n",
    "test_reader = InHospitalMortalityReader(dataset_dir=f'{PROCESSED_DATA}/in-hospital-mortality/test/',\n",
    "                                            listfile=f'{PROCESSED_DATA}/in-hospital-mortality/test_listfile.csv',\n",
    "                                            period_length=48.0)"
   ]
  },
  {
   "cell_type": "code",
   "execution_count": 30,
   "metadata": {},
   "outputs": [
    {
     "data": {
      "text/plain": [
       "14681"
      ]
     },
     "execution_count": 30,
     "metadata": {},
     "output_type": "execute_result"
    }
   ],
   "source": [
    "train_reader.get_number_of_examples()"
   ]
  },
  {
   "cell_type": "code",
   "execution_count": 18,
   "metadata": {},
   "outputs": [
    {
     "data": {
      "text/plain": [
       "\u001b[0;31mType:\u001b[0m           InHospitalMortalityReader\n",
       "\u001b[0;31mString form:\u001b[0m    <__main__.InHospitalMortalityReader object at 0x7faf3b689cc0>\n",
       "\u001b[0;31mDocstring:\u001b[0m      <no docstring>\n",
       "\u001b[0;31mInit docstring:\u001b[0m\n",
       "Reader for in-hospital moratality prediction task.\n",
       ":param dataset_dir:   Directory where timeseries files are stored.\n",
       ":param listfile:      Path to a listfile. If this parameter is left `None` then\n",
       "                      `dataset_dir/listfile.csv` will be used.\n",
       ":param period_length: Length of the period (in hours) from which the prediction is done.\n"
      ]
     },
     "metadata": {},
     "output_type": "display_data"
    }
   ],
   "source": [
    "train_reader?"
   ]
  },
  {
   "cell_type": "code",
   "execution_count": 32,
   "metadata": {},
   "outputs": [
    {
     "name": "stdout",
     "output_type": "stream",
     "text": [
      "Reading data and extracting features ...\n",
      "  train data shape = (14681, 714)\n",
      "  validation data shape = (3222, 714)\n",
      "  test data shape = (3236, 714)\n"
     ]
    }
   ],
   "source": [
    "print('Reading data and extracting features ...')\n",
    "(train_X, train_y, train_names) = read_and_extract_features(train_reader, period, features)\n",
    "(val_X, val_y, val_names) = read_and_extract_features(val_reader, period, features)\n",
    "(test_X, test_y, test_names) = read_and_extract_features(test_reader, period, features)\n",
    "print('  train data shape = {}'.format(train_X.shape))\n",
    "print('  validation data shape = {}'.format(val_X.shape))\n",
    "print('  test data shape = {}'.format(test_X.shape))"
   ]
  },
  {
   "cell_type": "code",
   "execution_count": 33,
   "metadata": {},
   "outputs": [],
   "source": [
    "#%debug"
   ]
  },
  {
   "cell_type": "markdown",
   "metadata": {},
   "source": [
    "**SAVE train, val, test arrays**"
   ]
  },
  {
   "cell_type": "code",
   "execution_count": 34,
   "metadata": {},
   "outputs": [],
   "source": [
    "np.save(f'{PROCESSED_DATA}/{task}/train_X', train_X)\n",
    "np.save(f'{PROCESSED_DATA}/{task}/train_y', train_y)\n",
    "np.save(f'{PROCESSED_DATA}/{task}/train_names', train_names)\n",
    "\n",
    "np.save(f'{PROCESSED_DATA}/{task}/val_X', val_X)\n",
    "np.save(f'{PROCESSED_DATA}/{task}/val_y', val_y)\n",
    "np.save(f'{PROCESSED_DATA}/{task}/val_names', val_names)\n",
    "\n",
    "np.save(f'{PROCESSED_DATA}/{task}/test_X', test_X)\n",
    "np.save(f'{PROCESSED_DATA}/{task}/test_y', test_y)\n",
    "np.save(f'{PROCESSED_DATA}/{task}/test_names', test_names)"
   ]
  },
  {
   "cell_type": "code",
   "execution_count": 31,
   "metadata": {},
   "outputs": [
    {
     "ename": "FileNotFoundError",
     "evalue": "[Errno 2] No such file or directory: '/data1/MIMIC-III/RAW//../processed//in-hospital-mortality/train_X.npy'",
     "output_type": "error",
     "traceback": [
      "\u001b[0;31m---------------------------------------------------------------------------\u001b[0m",
      "\u001b[0;31mFileNotFoundError\u001b[0m                         Traceback (most recent call last)",
      "\u001b[0;32m<ipython-input-31-973ac2ef4164>\u001b[0m in \u001b[0;36m<module>\u001b[0;34m()\u001b[0m\n\u001b[0;32m----> 1\u001b[0;31m \u001b[0mtrain_X\u001b[0m \u001b[0;34m=\u001b[0m \u001b[0mnp\u001b[0m\u001b[0;34m.\u001b[0m\u001b[0mload\u001b[0m\u001b[0;34m(\u001b[0m\u001b[0;34mf'{PROCESSED_DATA}/{task}/train_X.npy'\u001b[0m\u001b[0;34m)\u001b[0m\u001b[0;34m\u001b[0m\u001b[0m\n\u001b[0m\u001b[1;32m      2\u001b[0m \u001b[0mtrain_y\u001b[0m \u001b[0;34m=\u001b[0m \u001b[0mnp\u001b[0m\u001b[0;34m.\u001b[0m\u001b[0mload\u001b[0m\u001b[0;34m(\u001b[0m\u001b[0;34mf'{PROCESSED_DATA}/{task}/train_y.npy'\u001b[0m\u001b[0;34m)\u001b[0m\u001b[0;34m\u001b[0m\u001b[0m\n\u001b[1;32m      3\u001b[0m \u001b[0mtrain_names\u001b[0m \u001b[0;34m=\u001b[0m \u001b[0mnp\u001b[0m\u001b[0;34m.\u001b[0m\u001b[0mload\u001b[0m\u001b[0;34m(\u001b[0m\u001b[0;34mf'{PROCESSED_DATA}/{task}/train_names.npy'\u001b[0m\u001b[0;34m)\u001b[0m\u001b[0;34m\u001b[0m\u001b[0m\n\u001b[1;32m      4\u001b[0m \u001b[0;34m\u001b[0m\u001b[0m\n\u001b[1;32m      5\u001b[0m \u001b[0mval_X\u001b[0m \u001b[0;34m=\u001b[0m \u001b[0mnp\u001b[0m\u001b[0;34m.\u001b[0m\u001b[0mload\u001b[0m\u001b[0;34m(\u001b[0m\u001b[0;34mf'{PROCESSED_DATA}/{task}/val_X.npy'\u001b[0m\u001b[0;34m)\u001b[0m\u001b[0;34m\u001b[0m\u001b[0m\n",
      "\u001b[0;32m~/anaconda3/envs/fastai/lib/python3.6/site-packages/numpy/lib/npyio.py\u001b[0m in \u001b[0;36mload\u001b[0;34m(file, mmap_mode, allow_pickle, fix_imports, encoding)\u001b[0m\n\u001b[1;32m    370\u001b[0m     \u001b[0mown_fid\u001b[0m \u001b[0;34m=\u001b[0m \u001b[0;32mFalse\u001b[0m\u001b[0;34m\u001b[0m\u001b[0m\n\u001b[1;32m    371\u001b[0m     \u001b[0;32mif\u001b[0m \u001b[0misinstance\u001b[0m\u001b[0;34m(\u001b[0m\u001b[0mfile\u001b[0m\u001b[0;34m,\u001b[0m \u001b[0mbasestring\u001b[0m\u001b[0;34m)\u001b[0m\u001b[0;34m:\u001b[0m\u001b[0;34m\u001b[0m\u001b[0m\n\u001b[0;32m--> 372\u001b[0;31m         \u001b[0mfid\u001b[0m \u001b[0;34m=\u001b[0m \u001b[0mopen\u001b[0m\u001b[0;34m(\u001b[0m\u001b[0mfile\u001b[0m\u001b[0;34m,\u001b[0m \u001b[0;34m\"rb\"\u001b[0m\u001b[0;34m)\u001b[0m\u001b[0;34m\u001b[0m\u001b[0m\n\u001b[0m\u001b[1;32m    373\u001b[0m         \u001b[0mown_fid\u001b[0m \u001b[0;34m=\u001b[0m \u001b[0;32mTrue\u001b[0m\u001b[0;34m\u001b[0m\u001b[0m\n\u001b[1;32m    374\u001b[0m     \u001b[0;32melif\u001b[0m \u001b[0mis_pathlib_path\u001b[0m\u001b[0;34m(\u001b[0m\u001b[0mfile\u001b[0m\u001b[0;34m)\u001b[0m\u001b[0;34m:\u001b[0m\u001b[0;34m\u001b[0m\u001b[0m\n",
      "\u001b[0;31mFileNotFoundError\u001b[0m: [Errno 2] No such file or directory: '/data1/MIMIC-III/RAW//../processed//in-hospital-mortality/train_X.npy'"
     ]
    }
   ],
   "source": [
    "train_X = np.load(f'{PROCESSED_DATA}/{task}/train_X.npy')\n",
    "train_y = np.load(f'{PROCESSED_DATA}/{task}/train_y.npy')\n",
    "train_names = np.load(f'{PROCESSED_DATA}/{task}/train_names.npy')\n",
    "\n",
    "val_X = np.load(f'{PROCESSED_DATA}/{task}/val_X.npy')\n",
    "val_y = np.load(f'{PROCESSED_DATA}/{task}/val_y.npy')\n",
    "val_names = np.load(f'{PROCESSED_DATA}/{task}/val_names.npy')\n",
    "\n",
    "\n",
    "test_X = np.load(f'{PROCESSED_DATA}/{task}/test_X.npy')\n",
    "test_y = np.load(f'{PROCESSED_DATA}/{task}/test_y.npy')\n",
    "test_names = np.load(f'{PROCESSED_DATA}/{task}/test_names.npy')"
   ]
  },
  {
   "cell_type": "markdown",
   "metadata": {},
   "source": [
    "**TESTS (TMP)**"
   ]
  },
  {
   "cell_type": "code",
   "execution_count": 35,
   "metadata": {},
   "outputs": [],
   "source": [
    "ret = read_chunk(train_reader, train_reader.get_number_of_examples())"
   ]
  },
  {
   "cell_type": "code",
   "execution_count": 55,
   "metadata": {},
   "outputs": [
    {
     "data": {
      "text/plain": [
       "14681"
      ]
     },
     "execution_count": 55,
     "metadata": {},
     "output_type": "execute_result"
    }
   ],
   "source": [
    "len(ret['X'])"
   ]
  },
  {
   "cell_type": "code",
   "execution_count": 56,
   "metadata": {},
   "outputs": [
    {
     "data": {
      "text/plain": [
       "list"
      ]
     },
     "execution_count": 56,
     "metadata": {},
     "output_type": "execute_result"
    }
   ],
   "source": [
    "type(ret['X'])"
   ]
  },
  {
   "cell_type": "code",
   "execution_count": 57,
   "metadata": {},
   "outputs": [],
   "source": [
    "header = ret['header']"
   ]
  },
  {
   "cell_type": "code",
   "execution_count": 58,
   "metadata": {},
   "outputs": [
    {
     "data": {
      "text/plain": [
       "18"
      ]
     },
     "execution_count": 58,
     "metadata": {},
     "output_type": "execute_result"
    }
   ],
   "source": [
    "len(header)"
   ]
  },
  {
   "cell_type": "code",
   "execution_count": 59,
   "metadata": {},
   "outputs": [],
   "source": [
    "channel_info_file = open(f'{MIMIC3_BENCHMARK_LOCATION}/resources/channel_info.json')\n",
    "channel_info = json.loads(channel_info_file.read())"
   ]
  },
  {
   "cell_type": "code",
   "execution_count": 60,
   "metadata": {},
   "outputs": [],
   "source": [
    "data = [convert_to_dict(X, header, channel_info) for X in ret['X']]"
   ]
  },
  {
   "cell_type": "code",
   "execution_count": null,
   "metadata": {},
   "outputs": [],
   "source": [
    "data[0]"
   ]
  },
  {
   "cell_type": "code",
   "execution_count": 63,
   "metadata": {},
   "outputs": [
    {
     "data": {
      "text/plain": [
       "14681"
      ]
     },
     "execution_count": 63,
     "metadata": {},
     "output_type": "execute_result"
    }
   ],
   "source": [
    "len(data)"
   ]
  },
  {
   "cell_type": "markdown",
   "metadata": {},
   "source": [
    "## Imputing"
   ]
  },
  {
   "cell_type": "code",
   "execution_count": 38,
   "metadata": {},
   "outputs": [],
   "source": [
    "imputer = Imputer(missing_values=np.nan, strategy='mean', axis=0,\n",
    "                  verbose=0, copy=True)"
   ]
  },
  {
   "cell_type": "code",
   "execution_count": 39,
   "metadata": {},
   "outputs": [
    {
     "data": {
      "text/plain": [
       "Imputer(axis=0, copy=True, missing_values=nan, strategy='mean', verbose=0)"
      ]
     },
     "execution_count": 39,
     "metadata": {},
     "output_type": "execute_result"
    }
   ],
   "source": [
    "imputer.fit(train_X)"
   ]
  },
  {
   "cell_type": "code",
   "execution_count": 40,
   "metadata": {},
   "outputs": [],
   "source": [
    "train_X = np.array(imputer.transform(train_X), dtype=np.float32)\n",
    "val_X = np.array(imputer.transform(val_X), dtype=np.float32)"
   ]
  },
  {
   "cell_type": "markdown",
   "metadata": {},
   "source": [
    "## Normalizing"
   ]
  },
  {
   "cell_type": "code",
   "execution_count": 41,
   "metadata": {},
   "outputs": [],
   "source": [
    "scaler = StandardScaler()"
   ]
  },
  {
   "cell_type": "code",
   "execution_count": 42,
   "metadata": {},
   "outputs": [
    {
     "data": {
      "text/plain": [
       "StandardScaler(copy=True, with_mean=True, with_std=True)"
      ]
     },
     "execution_count": 42,
     "metadata": {},
     "output_type": "execute_result"
    }
   ],
   "source": [
    "scaler.fit(train_X)"
   ]
  },
  {
   "cell_type": "code",
   "execution_count": 43,
   "metadata": {},
   "outputs": [],
   "source": [
    "train_X = scaler.transform(train_X)\n",
    "val_X = scaler.transform(val_X)"
   ]
  },
  {
   "cell_type": "markdown",
   "metadata": {},
   "source": [
    "# Logistic regression"
   ]
  },
  {
   "cell_type": "code",
   "execution_count": 36,
   "metadata": {},
   "outputs": [],
   "source": [
    "from sklearn.linear_model import LogisticRegression"
   ]
  },
  {
   "cell_type": "code",
   "execution_count": 37,
   "metadata": {},
   "outputs": [],
   "source": [
    "C = 0.001 # Inverse of L1 / L2 regularization\n",
    "l2 = True \n",
    "l1 = False"
   ]
  },
  {
   "cell_type": "markdown",
   "metadata": {},
   "source": [
    "## Define logreg-model"
   ]
  },
  {
   "cell_type": "code",
   "execution_count": 44,
   "metadata": {},
   "outputs": [],
   "source": [
    "penalty = (\"l2\" if l2 else \"l1\")"
   ]
  },
  {
   "cell_type": "code",
   "execution_count": 45,
   "metadata": {},
   "outputs": [
    {
     "data": {
      "text/plain": [
       "'l2'"
      ]
     },
     "execution_count": 45,
     "metadata": {},
     "output_type": "execute_result"
    }
   ],
   "source": [
    "penalty"
   ]
  },
  {
   "cell_type": "code",
   "execution_count": 46,
   "metadata": {},
   "outputs": [],
   "source": [
    "logreg = LogisticRegression(penalty=penalty, C=C)"
   ]
  },
  {
   "cell_type": "code",
   "execution_count": 47,
   "metadata": {},
   "outputs": [
    {
     "data": {
      "text/plain": [
       "LogisticRegression(C=0.001, class_weight=None, dual=False, fit_intercept=True,\n",
       "          intercept_scaling=1, max_iter=100, multi_class='ovr', n_jobs=1,\n",
       "          penalty='l2', random_state=None, solver='liblinear', tol=0.0001,\n",
       "          verbose=0, warm_start=False)"
      ]
     },
     "execution_count": 47,
     "metadata": {},
     "output_type": "execute_result"
    }
   ],
   "source": [
    "logreg.fit(train_X, train_y)"
   ]
  },
  {
   "cell_type": "markdown",
   "metadata": {},
   "source": [
    "## Predict on train and valdata"
   ]
  },
  {
   "cell_type": "code",
   "execution_count": 48,
   "metadata": {},
   "outputs": [],
   "source": [
    "train_prob = logreg.predict_proba(train_X)\n",
    "val_prob = logreg.predict_proba(val_X)"
   ]
  },
  {
   "cell_type": "markdown",
   "metadata": {},
   "source": [
    "## Metrics"
   ]
  },
  {
   "cell_type": "markdown",
   "metadata": {},
   "source": [
    "Accuracy:"
   ]
  },
  {
   "cell_type": "code",
   "execution_count": 49,
   "metadata": {},
   "outputs": [
    {
     "data": {
      "text/plain": [
       "0.8842721885430148"
      ]
     },
     "execution_count": 49,
     "metadata": {},
     "output_type": "execute_result"
    }
   ],
   "source": [
    "logreg.score(train_X, train_y)"
   ]
  },
  {
   "cell_type": "code",
   "execution_count": 50,
   "metadata": {},
   "outputs": [],
   "source": [
    "from sklearn import metrics"
   ]
  },
  {
   "cell_type": "code",
   "execution_count": 51,
   "metadata": {},
   "outputs": [],
   "source": [
    "def print_metrics_binary(y_true, predictions, verbose=1):\n",
    "    predictions = np.array(predictions)\n",
    "    if (len(predictions.shape) == 1):\n",
    "        predictions = np.stack([1 - predictions, predictions]).transpose((1, 0))\n",
    "\n",
    "    cf = metrics.confusion_matrix(y_true, predictions.argmax(axis=1))\n",
    "    if verbose:\n",
    "        print(\"confusion matrix:\")\n",
    "        print(cf)\n",
    "    cf = cf.astype(np.float32)\n",
    "\n",
    "    acc = (cf[0][0] + cf[1][1]) / np.sum(cf)\n",
    "    prec0 = cf[0][0] / (cf[0][0] + cf[1][0])\n",
    "    prec1 = cf[1][1] / (cf[1][1] + cf[0][1])\n",
    "    rec0 = cf[0][0] / (cf[0][0] + cf[0][1])\n",
    "    rec1 = cf[1][1] / (cf[1][1] + cf[1][0])\n",
    "    auroc = metrics.roc_auc_score(y_true, predictions[:, 1])\n",
    "\n",
    "    (precisions, recalls, thresholds) = metrics.precision_recall_curve(y_true, predictions[:, 1])\n",
    "    auprc = metrics.auc(recalls, precisions)\n",
    "    minpse = np.max([min(x, y) for (x, y) in zip(precisions, recalls)])\n",
    "\n",
    "    if verbose:\n",
    "        print(\"accuracy =\", acc)\n",
    "        print(\"precision class 0 =\", prec0)\n",
    "        print(\"precision class 1 =\", prec1)\n",
    "        print(\"recall class 0 =\", rec0)\n",
    "        print(\"recall class 1 =\", rec1)\n",
    "        print(\"AUC of ROC =\", auroc)\n",
    "        print(\"AUC of PRC =\", auprc)\n",
    "        print(\"min(+P, Se) =\", minpse)\n",
    "\n",
    "    return {\"acc\": acc,\n",
    "            \"prec0\": prec0,\n",
    "            \"prec1\": prec1,\n",
    "            \"rec0\": rec0,\n",
    "            \"rec1\": rec1,\n",
    "            \"auroc\": auroc,\n",
    "            \"auprc\": auprc,\n",
    "            \"minpse\": minpse}"
   ]
  },
  {
   "cell_type": "code",
   "execution_count": 52,
   "metadata": {},
   "outputs": [
    {
     "name": "stdout",
     "output_type": "stream",
     "text": [
      "confusion matrix:\n",
      "[[12222   472]\n",
      " [ 1227   760]]\n",
      "accuracy = 0.8842722\n",
      "precision class 0 = 0.90876645\n",
      "precision class 1 = 0.6168831\n",
      "recall class 0 = 0.9628171\n",
      "recall class 1 = 0.38248616\n",
      "AUC of ROC = 0.8638282521595984\n",
      "AUC of PRC = 0.5483875454442582\n",
      "min(+P, Se) = 0.5284348263714141\n"
     ]
    }
   ],
   "source": [
    "acc, prec0, prec1, rec0, rec1, auroc, auprc, minpse = print_metrics_binary(train_y, train_prob)"
   ]
  },
  {
   "cell_type": "code",
   "execution_count": 53,
   "metadata": {},
   "outputs": [
    {
     "name": "stdout",
     "output_type": "stream",
     "text": [
      "confusion matrix:\n",
      "[[2666  120]\n",
      " [ 274  162]]\n",
      "accuracy = 0.8777157\n",
      "precision class 0 = 0.9068027\n",
      "precision class 1 = 0.5744681\n",
      "recall class 0 = 0.9569275\n",
      "recall class 1 = 0.37155962\n",
      "AUC of ROC = 0.8462438338481397\n",
      "AUC of PRC = 0.49532829033260056\n",
      "min(+P, Se) = 0.5114678899082569\n"
     ]
    }
   ],
   "source": [
    "acc_v, prec0_v, prec1_v, rec0_v, rec1_v, auroc_v, auprc_v, minpse_v = print_metrics_binary(val_y, val_prob)"
   ]
  },
  {
   "cell_type": "markdown",
   "metadata": {},
   "source": [
    "**Predict on test**"
   ]
  },
  {
   "cell_type": "code",
   "execution_count": 54,
   "metadata": {},
   "outputs": [],
   "source": [
    "test_X = np.array(imputer.transform(test_X), dtype=np.float32)"
   ]
  },
  {
   "cell_type": "code",
   "execution_count": 55,
   "metadata": {},
   "outputs": [],
   "source": [
    "test_X = scaler.transform(test_X)"
   ]
  },
  {
   "cell_type": "code",
   "execution_count": 56,
   "metadata": {},
   "outputs": [],
   "source": [
    "test_prob = logreg.predict_proba(test_X)"
   ]
  },
  {
   "cell_type": "code",
   "execution_count": 57,
   "metadata": {},
   "outputs": [
    {
     "name": "stdout",
     "output_type": "stream",
     "text": [
      "confusion matrix:\n",
      "[[2745  117]\n",
      " [ 230  144]]\n",
      "accuracy = 0.89276886\n",
      "precision class 0 = 0.9226891\n",
      "precision class 1 = 0.55172414\n",
      "recall class 0 = 0.9591195\n",
      "recall class 1 = 0.38502672\n",
      "AUC of ROC = 0.8498609849886211\n",
      "AUC of PRC = 0.47363518708673674\n",
      "min(+P, Se) = 0.4572192513368984\n"
     ]
    }
   ],
   "source": [
    "acc_t, prec0_t, prec1_t, rec0_t, rec1_t, auroc_t, auprc_t, minpse_t = print_metrics_binary(test_y, test_prob)"
   ]
  },
  {
   "cell_type": "markdown",
   "metadata": {},
   "source": [
    "# Random forests"
   ]
  },
  {
   "cell_type": "code",
   "execution_count": 58,
   "metadata": {},
   "outputs": [],
   "source": [
    "from sklearn.ensemble import RandomForestClassifier"
   ]
  },
  {
   "cell_type": "code",
   "execution_count": 59,
   "metadata": {},
   "outputs": [],
   "source": [
    "rf = RandomForestClassifier(n_jobs=-1)"
   ]
  },
  {
   "cell_type": "code",
   "execution_count": 60,
   "metadata": {},
   "outputs": [
    {
     "data": {
      "text/plain": [
       "RandomForestClassifier(bootstrap=True, class_weight=None, criterion='gini',\n",
       "            max_depth=None, max_features='auto', max_leaf_nodes=None,\n",
       "            min_impurity_decrease=0.0, min_impurity_split=None,\n",
       "            min_samples_leaf=1, min_samples_split=2,\n",
       "            min_weight_fraction_leaf=0.0, n_estimators=10, n_jobs=-1,\n",
       "            oob_score=False, random_state=None, verbose=0,\n",
       "            warm_start=False)"
      ]
     },
     "execution_count": 60,
     "metadata": {},
     "output_type": "execute_result"
    }
   ],
   "source": [
    "rf.fit(train_X, train_y)"
   ]
  },
  {
   "cell_type": "code",
   "execution_count": 61,
   "metadata": {},
   "outputs": [],
   "source": [
    "train_prob_rf = rf.predict_proba(train_X)"
   ]
  },
  {
   "cell_type": "code",
   "execution_count": 62,
   "metadata": {},
   "outputs": [
    {
     "data": {
      "text/plain": [
       "0.9853552210339895"
      ]
     },
     "execution_count": 62,
     "metadata": {},
     "output_type": "execute_result"
    }
   ],
   "source": [
    "rf.score(train_X, train_y)"
   ]
  },
  {
   "cell_type": "code",
   "execution_count": 63,
   "metadata": {},
   "outputs": [
    {
     "data": {
      "text/plain": [
       "0.8792675356921167"
      ]
     },
     "execution_count": 63,
     "metadata": {},
     "output_type": "execute_result"
    }
   ],
   "source": [
    "rf.score(val_X, val_y)"
   ]
  },
  {
   "cell_type": "code",
   "execution_count": 64,
   "metadata": {},
   "outputs": [
    {
     "data": {
      "text/plain": [
       "0.892150803461063"
      ]
     },
     "execution_count": 64,
     "metadata": {},
     "output_type": "execute_result"
    }
   ],
   "source": [
    "rf.score(test_X, test_y)"
   ]
  },
  {
   "cell_type": "code",
   "execution_count": 65,
   "metadata": {},
   "outputs": [],
   "source": [
    "cf = metrics.confusion_matrix(test_y, rf.predict_proba(test_X).argmax(axis=1))"
   ]
  },
  {
   "cell_type": "code",
   "execution_count": 66,
   "metadata": {},
   "outputs": [
    {
     "data": {
      "text/plain": [
       "array([[2809,   53],\n",
       "       [ 296,   78]])"
      ]
     },
     "execution_count": 66,
     "metadata": {},
     "output_type": "execute_result"
    }
   ],
   "source": [
    "cf"
   ]
  },
  {
   "cell_type": "markdown",
   "metadata": {},
   "source": [
    "**A slightly more powerful RF**"
   ]
  },
  {
   "cell_type": "code",
   "execution_count": 67,
   "metadata": {},
   "outputs": [],
   "source": [
    "m = RandomForestClassifier(n_estimators=40, min_samples_leaf=3, max_features=0.5, n_jobs=-1, oob_score=True)"
   ]
  },
  {
   "cell_type": "code",
   "execution_count": 68,
   "metadata": {},
   "outputs": [
    {
     "data": {
      "text/plain": [
       "RandomForestClassifier(bootstrap=True, class_weight=None, criterion='gini',\n",
       "            max_depth=None, max_features=0.5, max_leaf_nodes=None,\n",
       "            min_impurity_decrease=0.0, min_impurity_split=None,\n",
       "            min_samples_leaf=3, min_samples_split=2,\n",
       "            min_weight_fraction_leaf=0.0, n_estimators=40, n_jobs=-1,\n",
       "            oob_score=True, random_state=None, verbose=0, warm_start=False)"
      ]
     },
     "execution_count": 68,
     "metadata": {},
     "output_type": "execute_result"
    }
   ],
   "source": [
    "m.fit(train_X, train_y)"
   ]
  },
  {
   "cell_type": "code",
   "execution_count": 69,
   "metadata": {},
   "outputs": [
    {
     "data": {
      "text/plain": [
       "0.8995673671199012"
      ]
     },
     "execution_count": 69,
     "metadata": {},
     "output_type": "execute_result"
    }
   ],
   "source": [
    "m.score(test_X, test_y)"
   ]
  },
  {
   "cell_type": "code",
   "execution_count": 70,
   "metadata": {},
   "outputs": [
    {
     "data": {
      "text/plain": [
       "array([[2801,   61],\n",
       "       [ 263,  111]])"
      ]
     },
     "execution_count": 70,
     "metadata": {},
     "output_type": "execute_result"
    }
   ],
   "source": [
    "metrics.confusion_matrix(test_y, m.predict_proba(test_X).argmax(axis=1))"
   ]
  },
  {
   "cell_type": "code",
   "execution_count": 80,
   "metadata": {},
   "outputs": [],
   "source": [
    "test_prob_rf2 = m.predict_proba(test_X)"
   ]
  },
  {
   "cell_type": "code",
   "execution_count": 82,
   "metadata": {},
   "outputs": [
    {
     "name": "stdout",
     "output_type": "stream",
     "text": [
      "confusion matrix:\n",
      "[[2800   62]\n",
      " [ 263  111]]\n",
      "accuracy = 0.89956737\n",
      "precision class 0 = 0.91413647\n",
      "precision class 1 = 0.6416185\n",
      "recall class 0 = 0.9783368\n",
      "recall class 1 = 0.29679143\n",
      "AUC of ROC = 0.8364116563339647\n",
      "AUC of PRC = 0.48517862664126066\n",
      "min(+P, Se) = 0.4839572192513369\n"
     ]
    }
   ],
   "source": [
    "rf2_metrics = print_metrics_binary(test_y, test_prob_rf2)"
   ]
  },
  {
   "cell_type": "markdown",
   "metadata": {},
   "source": [
    "# XGBoost"
   ]
  },
  {
   "cell_type": "code",
   "execution_count": 72,
   "metadata": {},
   "outputs": [],
   "source": [
    "from xgboost import XGBClassifier"
   ]
  },
  {
   "cell_type": "code",
   "execution_count": 73,
   "metadata": {},
   "outputs": [],
   "source": [
    "model = XGBClassifier()"
   ]
  },
  {
   "cell_type": "code",
   "execution_count": 74,
   "metadata": {},
   "outputs": [
    {
     "data": {
      "text/plain": [
       "XGBClassifier(base_score=0.5, booster='gbtree', colsample_bylevel=1,\n",
       "       colsample_bytree=1, gamma=0, learning_rate=0.1, max_delta_step=0,\n",
       "       max_depth=3, min_child_weight=1, missing=None, n_estimators=100,\n",
       "       n_jobs=1, nthread=None, objective='binary:logistic', random_state=0,\n",
       "       reg_alpha=0, reg_lambda=1, scale_pos_weight=1, seed=None,\n",
       "       silent=True, subsample=1)"
      ]
     },
     "execution_count": 74,
     "metadata": {},
     "output_type": "execute_result"
    }
   ],
   "source": [
    "model.fit(train_X, train_y)"
   ]
  },
  {
   "cell_type": "code",
   "execution_count": 75,
   "metadata": {},
   "outputs": [
    {
     "name": "stderr",
     "output_type": "stream",
     "text": [
      "/home/alex/anaconda3/envs/fastai/lib/python3.6/site-packages/sklearn/preprocessing/label.py:151: DeprecationWarning: The truth value of an empty array is ambiguous. Returning False, but in future this will result in an error. Use `array.size > 0` to check that an array is not empty.\n",
      "  if diff:\n"
     ]
    }
   ],
   "source": [
    "test_proba_xg = model.predict(test_X)"
   ]
  },
  {
   "cell_type": "code",
   "execution_count": 83,
   "metadata": {},
   "outputs": [],
   "source": [
    "from sklearn.metrics import accuracy_score"
   ]
  },
  {
   "cell_type": "code",
   "execution_count": 84,
   "metadata": {},
   "outputs": [
    {
     "data": {
      "text/plain": [
       "0.9017305315203955"
      ]
     },
     "execution_count": 84,
     "metadata": {},
     "output_type": "execute_result"
    }
   ],
   "source": [
    "accuracy_score(test_y, test_proba_xg)"
   ]
  },
  {
   "cell_type": "code",
   "execution_count": 85,
   "metadata": {},
   "outputs": [
    {
     "data": {
      "text/plain": [
       "array([[2798,   64],\n",
       "       [ 254,  120]])"
      ]
     },
     "execution_count": 85,
     "metadata": {},
     "output_type": "execute_result"
    }
   ],
   "source": [
    "metrics.confusion_matrix(test_y, model.predict_proba(test_X).argmax(axis=1))"
   ]
  },
  {
   "cell_type": "code",
   "execution_count": 86,
   "metadata": {},
   "outputs": [
    {
     "name": "stdout",
     "output_type": "stream",
     "text": [
      "confusion matrix:\n",
      "[[2798   64]\n",
      " [ 254  120]]\n",
      "accuracy = 0.90173054\n",
      "precision class 0 = 0.9167759\n",
      "precision class 1 = 0.65217394\n",
      "recall class 0 = 0.977638\n",
      "recall class 1 = 0.32085562\n",
      "AUC of ROC = 0.6492468151735631\n",
      "AUC of PRC = 0.525760746703055\n",
      "min(+P, Se) = 0.32085561497326204\n"
     ]
    }
   ],
   "source": [
    "metrics_xg = print_metrics_binary(test_y, test_proba_xg)"
   ]
  },
  {
   "cell_type": "markdown",
   "metadata": {},
   "source": [
    "## Grid search for hyperparameters"
   ]
  },
  {
   "cell_type": "markdown",
   "metadata": {},
   "source": [
    "Based on https://www.kaggle.com/tilii7/hyperparameter-grid-search-with-xgboost/notebook"
   ]
  },
  {
   "cell_type": "code",
   "execution_count": 113,
   "metadata": {},
   "outputs": [
    {
     "data": {
      "text/plain": [
       "\u001b[0;31mInit signature:\u001b[0m \u001b[0mXGBClassifier\u001b[0m\u001b[0;34m(\u001b[0m\u001b[0mmax_depth\u001b[0m\u001b[0;34m=\u001b[0m\u001b[0;36m3\u001b[0m\u001b[0;34m,\u001b[0m \u001b[0mlearning_rate\u001b[0m\u001b[0;34m=\u001b[0m\u001b[0;36m0.1\u001b[0m\u001b[0;34m,\u001b[0m \u001b[0mn_estimators\u001b[0m\u001b[0;34m=\u001b[0m\u001b[0;36m100\u001b[0m\u001b[0;34m,\u001b[0m \u001b[0msilent\u001b[0m\u001b[0;34m=\u001b[0m\u001b[0;32mTrue\u001b[0m\u001b[0;34m,\u001b[0m \u001b[0mobjective\u001b[0m\u001b[0;34m=\u001b[0m\u001b[0;34m'binary:logistic'\u001b[0m\u001b[0;34m,\u001b[0m \u001b[0mbooster\u001b[0m\u001b[0;34m=\u001b[0m\u001b[0;34m'gbtree'\u001b[0m\u001b[0;34m,\u001b[0m \u001b[0mn_jobs\u001b[0m\u001b[0;34m=\u001b[0m\u001b[0;36m1\u001b[0m\u001b[0;34m,\u001b[0m \u001b[0mnthread\u001b[0m\u001b[0;34m=\u001b[0m\u001b[0;32mNone\u001b[0m\u001b[0;34m,\u001b[0m \u001b[0mgamma\u001b[0m\u001b[0;34m=\u001b[0m\u001b[0;36m0\u001b[0m\u001b[0;34m,\u001b[0m \u001b[0mmin_child_weight\u001b[0m\u001b[0;34m=\u001b[0m\u001b[0;36m1\u001b[0m\u001b[0;34m,\u001b[0m \u001b[0mmax_delta_step\u001b[0m\u001b[0;34m=\u001b[0m\u001b[0;36m0\u001b[0m\u001b[0;34m,\u001b[0m \u001b[0msubsample\u001b[0m\u001b[0;34m=\u001b[0m\u001b[0;36m1\u001b[0m\u001b[0;34m,\u001b[0m \u001b[0mcolsample_bytree\u001b[0m\u001b[0;34m=\u001b[0m\u001b[0;36m1\u001b[0m\u001b[0;34m,\u001b[0m \u001b[0mcolsample_bylevel\u001b[0m\u001b[0;34m=\u001b[0m\u001b[0;36m1\u001b[0m\u001b[0;34m,\u001b[0m \u001b[0mreg_alpha\u001b[0m\u001b[0;34m=\u001b[0m\u001b[0;36m0\u001b[0m\u001b[0;34m,\u001b[0m \u001b[0mreg_lambda\u001b[0m\u001b[0;34m=\u001b[0m\u001b[0;36m1\u001b[0m\u001b[0;34m,\u001b[0m \u001b[0mscale_pos_weight\u001b[0m\u001b[0;34m=\u001b[0m\u001b[0;36m1\u001b[0m\u001b[0;34m,\u001b[0m \u001b[0mbase_score\u001b[0m\u001b[0;34m=\u001b[0m\u001b[0;36m0.5\u001b[0m\u001b[0;34m,\u001b[0m \u001b[0mrandom_state\u001b[0m\u001b[0;34m=\u001b[0m\u001b[0;36m0\u001b[0m\u001b[0;34m,\u001b[0m \u001b[0mseed\u001b[0m\u001b[0;34m=\u001b[0m\u001b[0;32mNone\u001b[0m\u001b[0;34m,\u001b[0m \u001b[0mmissing\u001b[0m\u001b[0;34m=\u001b[0m\u001b[0;32mNone\u001b[0m\u001b[0;34m,\u001b[0m \u001b[0;34m**\u001b[0m\u001b[0mkwargs\u001b[0m\u001b[0;34m)\u001b[0m\u001b[0;34m\u001b[0m\u001b[0m\n",
       "\u001b[0;31mDocstring:\u001b[0m     \n",
       "Implementation of the scikit-learn API for XGBoost classification.\n",
       "\n",
       "    Parameters\n",
       "----------\n",
       "max_depth : int\n",
       "    Maximum tree depth for base learners.\n",
       "learning_rate : float\n",
       "    Boosting learning rate (xgb's \"eta\")\n",
       "n_estimators : int\n",
       "    Number of boosted trees to fit.\n",
       "silent : boolean\n",
       "    Whether to print messages while running boosting.\n",
       "objective : string or callable\n",
       "    Specify the learning task and the corresponding learning objective or\n",
       "    a custom objective function to be used (see note below).\n",
       "booster: string\n",
       "    Specify which booster to use: gbtree, gblinear or dart.\n",
       "nthread : int\n",
       "    Number of parallel threads used to run xgboost.  (Deprecated, please use n_jobs)\n",
       "n_jobs : int\n",
       "    Number of parallel threads used to run xgboost.  (replaces nthread)\n",
       "gamma : float\n",
       "    Minimum loss reduction required to make a further partition on a leaf node of the tree.\n",
       "min_child_weight : int\n",
       "    Minimum sum of instance weight(hessian) needed in a child.\n",
       "max_delta_step : int\n",
       "    Maximum delta step we allow each tree's weight estimation to be.\n",
       "subsample : float\n",
       "    Subsample ratio of the training instance.\n",
       "colsample_bytree : float\n",
       "    Subsample ratio of columns when constructing each tree.\n",
       "colsample_bylevel : float\n",
       "    Subsample ratio of columns for each split, in each level.\n",
       "reg_alpha : float (xgb's alpha)\n",
       "    L1 regularization term on weights\n",
       "reg_lambda : float (xgb's lambda)\n",
       "    L2 regularization term on weights\n",
       "scale_pos_weight : float\n",
       "    Balancing of positive and negative weights.\n",
       "base_score:\n",
       "    The initial prediction score of all instances, global bias.\n",
       "seed : int\n",
       "    Random number seed.  (Deprecated, please use random_state)\n",
       "random_state : int\n",
       "    Random number seed.  (replaces seed)\n",
       "missing : float, optional\n",
       "    Value in the data which needs to be present as a missing value. If\n",
       "    None, defaults to np.nan.\n",
       "**kwargs : dict, optional\n",
       "    Keyword arguments for XGBoost Booster object.  Full documentation of parameters can\n",
       "    be found here: https://github.com/dmlc/xgboost/blob/master/doc/parameter.md.\n",
       "    Attempting to set a parameter via the constructor args and **kwargs dict simultaneously\n",
       "    will result in a TypeError.\n",
       "    Note:\n",
       "        **kwargs is unsupported by Sklearn.  We do not guarantee that parameters passed via\n",
       "        this argument will interact properly with Sklearn.\n",
       "\n",
       "Note\n",
       "----\n",
       "A custom objective function can be provided for the ``objective``\n",
       "parameter. In this case, it should have the signature\n",
       "``objective(y_true, y_pred) -> grad, hess``:\n",
       "\n",
       "y_true: array_like of shape [n_samples]\n",
       "    The target values\n",
       "y_pred: array_like of shape [n_samples]\n",
       "    The predicted values\n",
       "\n",
       "grad: array_like of shape [n_samples]\n",
       "    The value of the gradient for each sample point.\n",
       "hess: array_like of shape [n_samples]\n",
       "    The value of the second derivative for each sample point\n",
       "\u001b[0;31mFile:\u001b[0m           ~/anaconda3/envs/fastai/lib/python3.6/site-packages/xgboost/sklearn.py\n",
       "\u001b[0;31mType:\u001b[0m           type\n"
      ]
     },
     "metadata": {},
     "output_type": "display_data"
    }
   ],
   "source": [
    "?XGBClassifier"
   ]
  },
  {
   "cell_type": "code",
   "execution_count": 117,
   "metadata": {},
   "outputs": [],
   "source": [
    "import warnings\n",
    "warnings.filterwarnings('ignore')\n",
    "from sklearn.model_selection import RandomizedSearchCV, GridSearchCV\n",
    "from sklearn.metrics import roc_auc_score\n",
    "from sklearn.model_selection import StratifiedKFold"
   ]
  },
  {
   "cell_type": "code",
   "execution_count": 147,
   "metadata": {},
   "outputs": [],
   "source": [
    "param_grid = {\n",
    "        'min_child_weight': [1, 5, 10],\n",
    "        'gamma': [0.0, 1.0, 1.5],\n",
    "        'subsample': [0.6, 1.0],\n",
    "        'colsample_bytree': [0.6, 0.8, 1.0],\n",
    "        'max_depth': [5, 6, 7, 8]\n",
    "        }\n",
    "\n",
    "param_grid_large = {\n",
    "        'learning_rate': [0.1, 0.05, 0.2],\n",
    "        'n_estimators': [50, 100, 500, 600],\n",
    "        'min_child_weight': [1, 5, 10],\n",
    "        'gamma': [0.0, 1.0, 1.5],\n",
    "        'subsample': [0.6, 1.0],\n",
    "        'colsample_bytree': [0.5, 0.6, 0.8],\n",
    "        'max_depth': [3, 4, 5, 6, 7, 8, 9, 10],\n",
    "        'reg_lambda': [1, ]\n",
    "        }"
   ]
  },
  {
   "cell_type": "code",
   "execution_count": 148,
   "metadata": {},
   "outputs": [],
   "source": [
    "xgb = XGBClassifier(silent=True, nthread=-1)"
   ]
  },
  {
   "cell_type": "markdown",
   "metadata": {},
   "source": [
    "**Brute force grid search**"
   ]
  },
  {
   "cell_type": "code",
   "execution_count": 149,
   "metadata": {},
   "outputs": [],
   "source": [
    "grid = GridSearchCV(estimator=xgb, param_grid=param_grid, \n",
    "                    scoring='roc_auc', n_jobs=-1, cv=skf.split(train_X, train_y), verbose=0 )"
   ]
  },
  {
   "cell_type": "code",
   "execution_count": 150,
   "metadata": {},
   "outputs": [
    {
     "name": "stdout",
     "output_type": "stream",
     "text": [
      "CPU times: user 3min 27s, sys: 4.08 s, total: 3min 31s\n",
      "Wall time: 37min 59s\n"
     ]
    },
    {
     "data": {
      "text/plain": [
       "GridSearchCV(cv=<generator object _BaseKFold.split at 0x7f80b171a360>,\n",
       "       error_score='raise',\n",
       "       estimator=XGBClassifier(base_score=0.5, booster='gbtree', colsample_bylevel=1,\n",
       "       colsample_bytree=1, gamma=0, learning_rate=0.1, max_delta_step=0,\n",
       "       max_depth=3, min_child_weight=1, missing=None, n_estimators=100,\n",
       "       n_jobs=1, nthread=-1, objective='binary:logistic', random_state=0,\n",
       "       reg_alpha=0, reg_lambda=1, scale_pos_weight=1, seed=None,\n",
       "       silent=True, subsample=1),\n",
       "       fit_params=None, iid=True, n_jobs=-1,\n",
       "       param_grid={'min_child_weight': [1, 5, 10], 'gamma': [0.5, 1, 1.5, 2, 5], 'subsample': [0.6, 0.8, 1.0], 'colsample_bytree': [0.6, 0.8, 1.0], 'max_depth': [3, 4, 5]},\n",
       "       pre_dispatch='2*n_jobs', refit=True, return_train_score='warn',\n",
       "       scoring='roc_auc', verbose=0)"
      ]
     },
     "execution_count": 150,
     "metadata": {},
     "output_type": "execute_result"
    }
   ],
   "source": [
    "%%time\n",
    "grid.fit(train_X, train_y)"
   ]
  },
  {
   "cell_type": "code",
   "execution_count": 151,
   "metadata": {},
   "outputs": [
    {
     "name": "stdout",
     "output_type": "stream",
     "text": [
      "\n",
      " Best estimator:\n",
      "XGBClassifier(base_score=0.5, booster='gbtree', colsample_bylevel=1,\n",
      "       colsample_bytree=0.8, gamma=5, learning_rate=0.1, max_delta_step=0,\n",
      "       max_depth=5, min_child_weight=10, missing=None, n_estimators=100,\n",
      "       n_jobs=1, nthread=-1, objective='binary:logistic', random_state=0,\n",
      "       reg_alpha=0, reg_lambda=1, scale_pos_weight=1, seed=None,\n",
      "       silent=True, subsample=0.6)\n"
     ]
    }
   ],
   "source": [
    "print(grid.best_estimator_)"
   ]
  },
  {
   "cell_type": "code",
   "execution_count": 152,
   "metadata": {},
   "outputs": [
    {
     "name": "stdout",
     "output_type": "stream",
     "text": [
      "\n",
      " Best normalized gini score for 5-fold search with 40 parameter combinations:\n",
      "0.737479995135286\n"
     ]
    }
   ],
   "source": [
    "print('\\n Best normalized gini score for %d-fold search with %d parameter combinations:' % (folds, param_comb))\n",
    "print(grid.best_score_ * 2 - 1)"
   ]
  },
  {
   "cell_type": "code",
   "execution_count": 153,
   "metadata": {},
   "outputs": [
    {
     "name": "stdout",
     "output_type": "stream",
     "text": [
      "\n",
      " Best hyperparameters:\n",
      "{'colsample_bytree': 0.8, 'gamma': 5, 'max_depth': 5, 'min_child_weight': 10, 'subsample': 0.6}\n"
     ]
    }
   ],
   "source": [
    "print(grid.best_params_)"
   ]
  },
  {
   "cell_type": "code",
   "execution_count": 154,
   "metadata": {},
   "outputs": [],
   "source": [
    "results_grid = pd.DataFrame(grid.cv_results_)"
   ]
  },
  {
   "cell_type": "code",
   "execution_count": null,
   "metadata": {},
   "outputs": [],
   "source": [
    "results_grid.head()"
   ]
  },
  {
   "cell_type": "markdown",
   "metadata": {},
   "source": [
    "**Test best**"
   ]
  },
  {
   "cell_type": "code",
   "execution_count": 156,
   "metadata": {},
   "outputs": [],
   "source": [
    "test_proba_xg_best = grid.predict_proba(test_X)"
   ]
  },
  {
   "cell_type": "code",
   "execution_count": 157,
   "metadata": {},
   "outputs": [
    {
     "name": "stdout",
     "output_type": "stream",
     "text": [
      "confusion matrix:\n",
      "[[2780   82]\n",
      " [ 242  132]]\n",
      "accuracy = 0.8998764\n",
      "precision class 0 = 0.91992056\n",
      "precision class 1 = 0.6168224\n",
      "recall class 0 = 0.9713487\n",
      "recall class 1 = 0.3529412\n",
      "AUC of ROC = 0.8673462333284753\n",
      "AUC of PRC = 0.5158677841625119\n",
      "min(+P, Se) = 0.49214659685863876\n"
     ]
    }
   ],
   "source": [
    "metrics_xg_best = print_metrics_binary(test_y, test_proba_xg_best)"
   ]
  },
  {
   "cell_type": "markdown",
   "metadata": {},
   "source": [
    "**Random search**"
   ]
  },
  {
   "cell_type": "code",
   "execution_count": 134,
   "metadata": {},
   "outputs": [],
   "source": [
    "folds = 5\n",
    "param_comb = 40\n",
    "\n",
    "skf = StratifiedKFold(n_splits=folds, shuffle = True, random_state = 42)"
   ]
  },
  {
   "cell_type": "code",
   "execution_count": 135,
   "metadata": {},
   "outputs": [],
   "source": [
    "random_search = RandomizedSearchCV(xgb, param_distributions=param_grid, n_iter=param_comb, \n",
    "                                   scoring='roc_auc', n_jobs=-1, \n",
    "                                   cv=skf.split(train_X, train_y), verbose=3, random_state=1001 )"
   ]
  },
  {
   "cell_type": "code",
   "execution_count": 136,
   "metadata": {},
   "outputs": [
    {
     "name": "stdout",
     "output_type": "stream",
     "text": [
      "Fitting 5 folds for each of 40 candidates, totalling 200 fits\n",
      "[CV] subsample=0.6, reg_lambda=1, n_estimators=600, min_child_weight=5, max_depth=9, learning_rate=0.05, gamma=5, colsample_bytree=0.8 \n",
      "[CV] subsample=0.6, reg_lambda=1, n_estimators=600, min_child_weight=5, max_depth=9, learning_rate=0.05, gamma=5, colsample_bytree=0.8 \n",
      "[CV] subsample=0.6, reg_lambda=1, n_estimators=600, min_child_weight=5, max_depth=9, learning_rate=0.05, gamma=5, colsample_bytree=0.8 \n",
      "[CV] subsample=0.6, reg_lambda=1, n_estimators=600, min_child_weight=5, max_depth=9, learning_rate=0.05, gamma=5, colsample_bytree=0.8 \n",
      "[CV] subsample=0.6, reg_lambda=1, n_estimators=600, min_child_weight=5, max_depth=9, learning_rate=0.05, gamma=5, colsample_bytree=0.8 \n",
      "[CV] subsample=0.8, reg_lambda=1, n_estimators=50, min_child_weight=1, max_depth=5, learning_rate=0.05, gamma=1.5, colsample_bytree=0.5 \n",
      "[CV] subsample=0.8, reg_lambda=1, n_estimators=50, min_child_weight=1, max_depth=5, learning_rate=0.05, gamma=1.5, colsample_bytree=0.5 \n",
      "[CV] subsample=0.8, reg_lambda=1, n_estimators=50, min_child_weight=1, max_depth=5, learning_rate=0.05, gamma=1.5, colsample_bytree=0.5 \n",
      "[CV] subsample=0.8, reg_lambda=1, n_estimators=50, min_child_weight=1, max_depth=5, learning_rate=0.05, gamma=1.5, colsample_bytree=0.5 \n",
      "[CV] subsample=0.8, reg_lambda=1, n_estimators=50, min_child_weight=1, max_depth=5, learning_rate=0.05, gamma=1.5, colsample_bytree=0.5 \n",
      "[CV] subsample=0.8, reg_lambda=1, n_estimators=50, min_child_weight=1, max_depth=10, learning_rate=0.05, gamma=1.5, colsample_bytree=0.8 \n",
      "[CV] subsample=0.8, reg_lambda=1, n_estimators=50, min_child_weight=1, max_depth=10, learning_rate=0.05, gamma=1.5, colsample_bytree=0.8 \n",
      "[CV] subsample=0.8, reg_lambda=1, n_estimators=50, min_child_weight=1, max_depth=10, learning_rate=0.05, gamma=1.5, colsample_bytree=0.8 \n",
      "[CV] subsample=0.8, reg_lambda=1, n_estimators=50, min_child_weight=1, max_depth=10, learning_rate=0.05, gamma=1.5, colsample_bytree=0.8 \n",
      "[CV] subsample=0.8, reg_lambda=1, n_estimators=50, min_child_weight=1, max_depth=10, learning_rate=0.05, gamma=1.5, colsample_bytree=0.8 \n",
      "[CV] subsample=0.8, reg_lambda=1, n_estimators=600, min_child_weight=10, max_depth=10, learning_rate=0.1, gamma=0, colsample_bytree=0.5 \n",
      "[CV] subsample=0.8, reg_lambda=1, n_estimators=600, min_child_weight=10, max_depth=10, learning_rate=0.1, gamma=0, colsample_bytree=0.5 \n",
      "[CV] subsample=0.8, reg_lambda=1, n_estimators=600, min_child_weight=10, max_depth=10, learning_rate=0.1, gamma=0, colsample_bytree=0.5 \n",
      "[CV] subsample=0.8, reg_lambda=1, n_estimators=600, min_child_weight=10, max_depth=10, learning_rate=0.1, gamma=0, colsample_bytree=0.5 \n",
      "[CV] subsample=0.8, reg_lambda=1, n_estimators=600, min_child_weight=10, max_depth=10, learning_rate=0.1, gamma=0, colsample_bytree=0.5 \n",
      "[CV] subsample=1.0, reg_lambda=1, n_estimators=600, min_child_weight=1, max_depth=9, learning_rate=0.1, gamma=0, colsample_bytree=0.5 \n",
      "[CV] subsample=1.0, reg_lambda=1, n_estimators=600, min_child_weight=1, max_depth=9, learning_rate=0.1, gamma=0, colsample_bytree=0.5 \n",
      "[CV] subsample=1.0, reg_lambda=1, n_estimators=600, min_child_weight=1, max_depth=9, learning_rate=0.1, gamma=0, colsample_bytree=0.5 \n",
      "[CV] subsample=1.0, reg_lambda=1, n_estimators=600, min_child_weight=1, max_depth=9, learning_rate=0.1, gamma=0, colsample_bytree=0.5 \n",
      "[CV] subsample=1.0, reg_lambda=1, n_estimators=600, min_child_weight=1, max_depth=9, learning_rate=0.1, gamma=0, colsample_bytree=0.5 \n",
      "[CV] subsample=0.6, reg_lambda=1, n_estimators=50, min_child_weight=1, max_depth=6, learning_rate=0.2, gamma=5, colsample_bytree=0.6 \n",
      "[CV] subsample=0.6, reg_lambda=1, n_estimators=50, min_child_weight=1, max_depth=6, learning_rate=0.2, gamma=5, colsample_bytree=0.6 \n",
      "[CV] subsample=0.6, reg_lambda=1, n_estimators=50, min_child_weight=1, max_depth=6, learning_rate=0.2, gamma=5, colsample_bytree=0.6 \n",
      "[CV] subsample=0.6, reg_lambda=1, n_estimators=50, min_child_weight=1, max_depth=6, learning_rate=0.2, gamma=5, colsample_bytree=0.6 \n",
      "[CV] subsample=0.6, reg_lambda=1, n_estimators=50, min_child_weight=1, max_depth=6, learning_rate=0.2, gamma=5, colsample_bytree=0.6 \n",
      "[CV] subsample=0.6, reg_lambda=1, n_estimators=50, min_child_weight=1, max_depth=5, learning_rate=0.1, gamma=0.5, colsample_bytree=0.6 \n",
      "[CV] subsample=0.6, reg_lambda=1, n_estimators=50, min_child_weight=1, max_depth=5, learning_rate=0.1, gamma=0.5, colsample_bytree=0.6 \n",
      "[CV]  subsample=0.8, reg_lambda=1, n_estimators=50, min_child_weight=1, max_depth=5, learning_rate=0.05, gamma=1.5, colsample_bytree=0.5, score=0.8583924941762772, total=  11.3s\n",
      "[CV] subsample=0.6, reg_lambda=1, n_estimators=50, min_child_weight=1, max_depth=5, learning_rate=0.1, gamma=0.5, colsample_bytree=0.6 \n",
      "[CV]  subsample=0.8, reg_lambda=1, n_estimators=50, min_child_weight=1, max_depth=5, learning_rate=0.05, gamma=1.5, colsample_bytree=0.5, score=0.8496648266935307, total=  11.5s\n",
      "[CV] subsample=0.6, reg_lambda=1, n_estimators=50, min_child_weight=1, max_depth=5, learning_rate=0.1, gamma=0.5, colsample_bytree=0.6 \n",
      "[CV]  subsample=0.8, reg_lambda=1, n_estimators=50, min_child_weight=1, max_depth=5, learning_rate=0.05, gamma=1.5, colsample_bytree=0.5, score=0.8667958685811169, total=  11.6s\n",
      "[CV]  subsample=0.8, reg_lambda=1, n_estimators=50, min_child_weight=1, max_depth=5, learning_rate=0.05, gamma=1.5, colsample_bytree=0.5, score=0.8558341421972914, total=  11.5s\n",
      "[CV] subsample=0.6, reg_lambda=1, n_estimators=50, min_child_weight=1, max_depth=5, learning_rate=0.1, gamma=0.5, colsample_bytree=0.6 \n",
      "[CV]  subsample=0.8, reg_lambda=1, n_estimators=50, min_child_weight=1, max_depth=5, learning_rate=0.05, gamma=1.5, colsample_bytree=0.5, score=0.8529697425452611, total=  11.7s\n",
      "[CV] subsample=0.8, reg_lambda=1, n_estimators=600, min_child_weight=10, max_depth=6, learning_rate=0.05, gamma=0.5, colsample_bytree=0.5 \n",
      "[CV] subsample=0.8, reg_lambda=1, n_estimators=600, min_child_weight=10, max_depth=6, learning_rate=0.05, gamma=0.5, colsample_bytree=0.5 \n",
      "[CV]  subsample=0.6, reg_lambda=1, n_estimators=50, min_child_weight=1, max_depth=5, learning_rate=0.1, gamma=0.5, colsample_bytree=0.6, score=0.8590189031015654, total=  14.3s\n",
      "[CV] subsample=0.8, reg_lambda=1, n_estimators=600, min_child_weight=10, max_depth=6, learning_rate=0.05, gamma=0.5, colsample_bytree=0.5 \n",
      "[CV]  subsample=0.6, reg_lambda=1, n_estimators=50, min_child_weight=1, max_depth=5, learning_rate=0.1, gamma=0.5, colsample_bytree=0.6, score=0.86638192933949, total=  14.9s\n",
      "[CV] subsample=0.8, reg_lambda=1, n_estimators=600, min_child_weight=10, max_depth=6, learning_rate=0.05, gamma=0.5, colsample_bytree=0.5 \n",
      "[CV]  subsample=0.6, reg_lambda=1, n_estimators=50, min_child_weight=1, max_depth=6, learning_rate=0.2, gamma=5, colsample_bytree=0.6, score=0.8507424875460405, total=  17.1s\n",
      "[CV] subsample=0.8, reg_lambda=1, n_estimators=600, min_child_weight=10, max_depth=6, learning_rate=0.05, gamma=0.5, colsample_bytree=0.5 \n",
      "[CV]  subsample=0.6, reg_lambda=1, n_estimators=50, min_child_weight=1, max_depth=6, learning_rate=0.2, gamma=5, colsample_bytree=0.6, score=0.8596266008454507, total=  17.1s\n",
      "[CV]  subsample=0.6, reg_lambda=1, n_estimators=50, min_child_weight=1, max_depth=6, learning_rate=0.2, gamma=5, colsample_bytree=0.6, score=0.8388100407512157, total=  17.2s\n",
      "[CV] subsample=0.6, reg_lambda=1, n_estimators=100, min_child_weight=10, max_depth=3, learning_rate=0.2, gamma=0, colsample_bytree=0.5 \n",
      "[CV] subsample=0.6, reg_lambda=1, n_estimators=100, min_child_weight=10, max_depth=3, learning_rate=0.2, gamma=0, colsample_bytree=0.5 \n",
      "[CV]  subsample=0.6, reg_lambda=1, n_estimators=50, min_child_weight=1, max_depth=6, learning_rate=0.2, gamma=5, colsample_bytree=0.6, score=0.8532343641138325, total=  17.2s\n",
      "[CV] subsample=0.6, reg_lambda=1, n_estimators=100, min_child_weight=10, max_depth=3, learning_rate=0.2, gamma=0, colsample_bytree=0.5 \n",
      "[CV]  subsample=0.6, reg_lambda=1, n_estimators=50, min_child_weight=1, max_depth=6, learning_rate=0.2, gamma=5, colsample_bytree=0.6, score=0.8459319254392187, total=  17.5s\n",
      "[CV] subsample=0.6, reg_lambda=1, n_estimators=100, min_child_weight=10, max_depth=3, learning_rate=0.2, gamma=0, colsample_bytree=0.5 \n",
      "[CV]  subsample=0.6, reg_lambda=1, n_estimators=50, min_child_weight=1, max_depth=5, learning_rate=0.1, gamma=0.5, colsample_bytree=0.6, score=0.8623716868240834, total=  14.5s\n",
      "[CV] subsample=0.6, reg_lambda=1, n_estimators=100, min_child_weight=10, max_depth=3, learning_rate=0.2, gamma=0, colsample_bytree=0.5 \n",
      "[CV]  subsample=0.6, reg_lambda=1, n_estimators=50, min_child_weight=1, max_depth=5, learning_rate=0.1, gamma=0.5, colsample_bytree=0.6, score=0.8746586003930622, total=  14.3s\n",
      "[CV] subsample=0.6, reg_lambda=1, n_estimators=100, min_child_weight=1, max_depth=3, learning_rate=0.1, gamma=0.5, colsample_bytree=0.5 \n",
      "[CV]  subsample=0.6, reg_lambda=1, n_estimators=50, min_child_weight=1, max_depth=5, learning_rate=0.1, gamma=0.5, colsample_bytree=0.6, score=0.8611820727957713, total=  14.4s\n",
      "[CV] subsample=0.6, reg_lambda=1, n_estimators=100, min_child_weight=1, max_depth=3, learning_rate=0.1, gamma=0.5, colsample_bytree=0.5 \n",
      "[CV]  subsample=0.6, reg_lambda=1, n_estimators=100, min_child_weight=10, max_depth=3, learning_rate=0.2, gamma=0, colsample_bytree=0.5, score=0.8577972572591195, total=  14.5s\n",
      "[CV] subsample=0.6, reg_lambda=1, n_estimators=100, min_child_weight=1, max_depth=3, learning_rate=0.1, gamma=0.5, colsample_bytree=0.5 \n",
      "[CV]  subsample=0.6, reg_lambda=1, n_estimators=100, min_child_weight=10, max_depth=3, learning_rate=0.2, gamma=0, colsample_bytree=0.5, score=0.8533579674663194, total=  14.6s\n",
      "[CV] subsample=0.6, reg_lambda=1, n_estimators=100, min_child_weight=1, max_depth=3, learning_rate=0.1, gamma=0.5, colsample_bytree=0.5 \n",
      "[CV]  subsample=0.6, reg_lambda=1, n_estimators=100, min_child_weight=10, max_depth=3, learning_rate=0.2, gamma=0, colsample_bytree=0.5, score=0.8707567488737409, total=  14.3s\n",
      "[CV] subsample=0.6, reg_lambda=1, n_estimators=100, min_child_weight=1, max_depth=3, learning_rate=0.1, gamma=0.5, colsample_bytree=0.5 \n",
      "[CV]  subsample=0.6, reg_lambda=1, n_estimators=100, min_child_weight=10, max_depth=3, learning_rate=0.2, gamma=0, colsample_bytree=0.5, score=0.858495629390575, total=  14.8s\n",
      "[CV] subsample=0.6, reg_lambda=1, n_estimators=600, min_child_weight=5, max_depth=3, learning_rate=0.2, gamma=0.5, colsample_bytree=0.5 \n",
      "[CV]  subsample=0.8, reg_lambda=1, n_estimators=50, min_child_weight=1, max_depth=10, learning_rate=0.05, gamma=1.5, colsample_bytree=0.8, score=0.868463059396835, total=  37.1s\n",
      "[CV] subsample=0.6, reg_lambda=1, n_estimators=600, min_child_weight=5, max_depth=3, learning_rate=0.2, gamma=0.5, colsample_bytree=0.5 \n",
      "[CV]  subsample=0.8, reg_lambda=1, n_estimators=50, min_child_weight=1, max_depth=10, learning_rate=0.05, gamma=1.5, colsample_bytree=0.8, score=0.8611989448047115, total=  37.4s\n",
      "[CV] subsample=0.6, reg_lambda=1, n_estimators=600, min_child_weight=5, max_depth=3, learning_rate=0.2, gamma=0.5, colsample_bytree=0.5 \n",
      "[CV]  subsample=0.8, reg_lambda=1, n_estimators=50, min_child_weight=1, max_depth=10, learning_rate=0.05, gamma=1.5, colsample_bytree=0.8, score=0.8552569859933776, total=  37.6s\n",
      "[CV] subsample=0.6, reg_lambda=1, n_estimators=600, min_child_weight=5, max_depth=3, learning_rate=0.2, gamma=0.5, colsample_bytree=0.5 \n",
      "[CV]  subsample=0.8, reg_lambda=1, n_estimators=50, min_child_weight=1, max_depth=10, learning_rate=0.05, gamma=1.5, colsample_bytree=0.8, score=0.8464924507655386, total=  37.7s\n",
      "[CV] subsample=0.6, reg_lambda=1, n_estimators=600, min_child_weight=5, max_depth=3, learning_rate=0.2, gamma=0.5, colsample_bytree=0.5 \n",
      "[CV]  subsample=0.8, reg_lambda=1, n_estimators=50, min_child_weight=1, max_depth=10, learning_rate=0.05, gamma=1.5, colsample_bytree=0.8, score=0.8616378465783031, total=  38.1s\n",
      "[CV] subsample=0.8, reg_lambda=1, n_estimators=100, min_child_weight=10, max_depth=10, learning_rate=0.2, gamma=1, colsample_bytree=0.8 \n",
      "[CV]  subsample=0.6, reg_lambda=1, n_estimators=100, min_child_weight=10, max_depth=3, learning_rate=0.2, gamma=0, colsample_bytree=0.5, score=0.8644056189744598, total=  15.9s\n",
      "[CV] subsample=0.8, reg_lambda=1, n_estimators=100, min_child_weight=10, max_depth=10, learning_rate=0.2, gamma=1, colsample_bytree=0.8 \n",
      "[CV]  subsample=0.6, reg_lambda=1, n_estimators=100, min_child_weight=1, max_depth=3, learning_rate=0.1, gamma=0.5, colsample_bytree=0.5, score=0.8588679909987116, total=  15.9s\n",
      "[CV] subsample=0.8, reg_lambda=1, n_estimators=100, min_child_weight=10, max_depth=10, learning_rate=0.2, gamma=1, colsample_bytree=0.8 \n",
      "[CV]  subsample=0.6, reg_lambda=1, n_estimators=100, min_child_weight=1, max_depth=3, learning_rate=0.1, gamma=0.5, colsample_bytree=0.5, score=0.8682443331268394, total=  16.1s\n",
      "[CV] subsample=0.8, reg_lambda=1, n_estimators=100, min_child_weight=10, max_depth=10, learning_rate=0.2, gamma=1, colsample_bytree=0.8 \n",
      "[CV]  subsample=0.6, reg_lambda=1, n_estimators=100, min_child_weight=1, max_depth=3, learning_rate=0.1, gamma=0.5, colsample_bytree=0.5, score=0.8734978665314792, total=  15.7s\n",
      "[CV] subsample=0.8, reg_lambda=1, n_estimators=100, min_child_weight=10, max_depth=10, learning_rate=0.2, gamma=1, colsample_bytree=0.8 \n",
      "[CV]  subsample=0.6, reg_lambda=1, n_estimators=100, min_child_weight=1, max_depth=3, learning_rate=0.1, gamma=0.5, colsample_bytree=0.5, score=0.8669173984085049, total=  16.2s\n",
      "[CV] subsample=0.8, reg_lambda=1, n_estimators=100, min_child_weight=1, max_depth=3, learning_rate=0.2, gamma=0, colsample_bytree=0.6 \n",
      "[CV]  subsample=0.6, reg_lambda=1, n_estimators=100, min_child_weight=1, max_depth=3, learning_rate=0.1, gamma=0.5, colsample_bytree=0.5, score=0.864871584162543, total=  16.5s\n",
      "[CV] subsample=0.8, reg_lambda=1, n_estimators=100, min_child_weight=1, max_depth=3, learning_rate=0.2, gamma=0, colsample_bytree=0.6 \n",
      "[CV]  subsample=0.8, reg_lambda=1, n_estimators=100, min_child_weight=1, max_depth=3, learning_rate=0.2, gamma=0, colsample_bytree=0.6, score=0.8583568690241281, total=  17.1s\n",
      "[CV] subsample=0.8, reg_lambda=1, n_estimators=100, min_child_weight=1, max_depth=3, learning_rate=0.2, gamma=0, colsample_bytree=0.6 \n",
      "[CV]  subsample=0.8, reg_lambda=1, n_estimators=100, min_child_weight=1, max_depth=3, learning_rate=0.2, gamma=0, colsample_bytree=0.6, score=0.8556775607062488, total=  17.8s\n",
      "[CV] subsample=0.8, reg_lambda=1, n_estimators=100, min_child_weight=1, max_depth=3, learning_rate=0.2, gamma=0, colsample_bytree=0.6 \n",
      "[CV]  subsample=0.8, reg_lambda=1, n_estimators=100, min_child_weight=1, max_depth=3, learning_rate=0.2, gamma=0, colsample_bytree=0.6, score=0.8653389987727967, total=  17.4s\n",
      "[CV] subsample=0.8, reg_lambda=1, n_estimators=100, min_child_weight=1, max_depth=3, learning_rate=0.2, gamma=0, colsample_bytree=0.6 \n",
      "[CV]  subsample=0.8, reg_lambda=1, n_estimators=100, min_child_weight=1, max_depth=3, learning_rate=0.2, gamma=0, colsample_bytree=0.6, score=0.8722210592837379, total=  18.1s\n",
      "[CV] subsample=1.0, reg_lambda=1, n_estimators=100, min_child_weight=10, max_depth=7, learning_rate=0.05, gamma=2, colsample_bytree=0.6 \n",
      "[CV]  subsample=0.8, reg_lambda=1, n_estimators=100, min_child_weight=1, max_depth=3, learning_rate=0.2, gamma=0, colsample_bytree=0.6, score=0.860360306713273, total=  17.5s\n",
      "[CV] subsample=1.0, reg_lambda=1, n_estimators=100, min_child_weight=10, max_depth=7, learning_rate=0.05, gamma=2, colsample_bytree=0.6 \n",
      "[CV]  subsample=0.8, reg_lambda=1, n_estimators=100, min_child_weight=10, max_depth=10, learning_rate=0.2, gamma=1, colsample_bytree=0.8, score=0.8540358349447117, total= 1.1min\n",
      "[CV] subsample=1.0, reg_lambda=1, n_estimators=100, min_child_weight=10, max_depth=7, learning_rate=0.05, gamma=2, colsample_bytree=0.6 \n",
      "[CV]  subsample=0.8, reg_lambda=1, n_estimators=100, min_child_weight=10, max_depth=10, learning_rate=0.2, gamma=1, colsample_bytree=0.8, score=0.8486109159424535, total= 1.1min\n",
      "[CV] subsample=1.0, reg_lambda=1, n_estimators=100, min_child_weight=10, max_depth=7, learning_rate=0.05, gamma=2, colsample_bytree=0.6 \n",
      "[CV]  subsample=0.8, reg_lambda=1, n_estimators=100, min_child_weight=10, max_depth=10, learning_rate=0.2, gamma=1, colsample_bytree=0.8, score=0.849835761118987, total= 1.2min\n",
      "[CV] subsample=1.0, reg_lambda=1, n_estimators=100, min_child_weight=10, max_depth=7, learning_rate=0.05, gamma=2, colsample_bytree=0.6 \n",
      "[CV]  subsample=0.8, reg_lambda=1, n_estimators=100, min_child_weight=10, max_depth=10, learning_rate=0.2, gamma=1, colsample_bytree=0.8, score=0.8646118039689161, total= 1.2min\n",
      "[CV] subsample=0.8, reg_lambda=1, n_estimators=50, min_child_weight=5, max_depth=9, learning_rate=0.1, gamma=0.5, colsample_bytree=0.8 \n",
      "[CV]  subsample=0.8, reg_lambda=1, n_estimators=100, min_child_weight=10, max_depth=10, learning_rate=0.2, gamma=1, colsample_bytree=0.8, score=0.8502797776070729, total= 1.2min\n",
      "[CV] subsample=0.8, reg_lambda=1, n_estimators=50, min_child_weight=5, max_depth=9, learning_rate=0.1, gamma=0.5, colsample_bytree=0.8 \n",
      "[CV]  subsample=0.6, reg_lambda=1, n_estimators=600, min_child_weight=5, max_depth=3, learning_rate=0.2, gamma=0.5, colsample_bytree=0.5, score=0.8438945416329382, total= 1.5min\n",
      "[CV] subsample=0.8, reg_lambda=1, n_estimators=50, min_child_weight=5, max_depth=9, learning_rate=0.1, gamma=0.5, colsample_bytree=0.8 \n",
      "[CV]  subsample=1.0, reg_lambda=1, n_estimators=100, min_child_weight=10, max_depth=7, learning_rate=0.05, gamma=2, colsample_bytree=0.6, score=0.8665491696370786, total=  38.8s\n",
      "[CV] subsample=0.8, reg_lambda=1, n_estimators=50, min_child_weight=5, max_depth=9, learning_rate=0.1, gamma=0.5, colsample_bytree=0.8 \n",
      "[CV]  subsample=0.6, reg_lambda=1, n_estimators=600, min_child_weight=5, max_depth=3, learning_rate=0.2, gamma=0.5, colsample_bytree=0.5, score=0.8439914165219058, total= 1.5min\n",
      "[CV] subsample=0.8, reg_lambda=1, n_estimators=50, min_child_weight=5, max_depth=9, learning_rate=0.1, gamma=0.5, colsample_bytree=0.8 \n",
      "[CV]  subsample=0.6, reg_lambda=1, n_estimators=600, min_child_weight=5, max_depth=3, learning_rate=0.2, gamma=0.5, colsample_bytree=0.5, score=0.8447795026925742, total= 1.5min\n",
      "[CV] subsample=1.0, reg_lambda=1, n_estimators=50, min_child_weight=10, max_depth=4, learning_rate=0.05, gamma=0.5, colsample_bytree=0.5 \n",
      "[CV]  subsample=0.6, reg_lambda=1, n_estimators=600, min_child_weight=5, max_depth=3, learning_rate=0.2, gamma=0.5, colsample_bytree=0.5, score=0.836647791933278, total= 1.5min\n",
      "[CV] subsample=1.0, reg_lambda=1, n_estimators=50, min_child_weight=10, max_depth=4, learning_rate=0.05, gamma=0.5, colsample_bytree=0.5 \n",
      "[CV]  subsample=0.6, reg_lambda=1, n_estimators=600, min_child_weight=5, max_depth=3, learning_rate=0.2, gamma=0.5, colsample_bytree=0.5, score=0.8538358285804422, total= 1.6min\n",
      "[CV] subsample=1.0, reg_lambda=1, n_estimators=50, min_child_weight=10, max_depth=4, learning_rate=0.05, gamma=0.5, colsample_bytree=0.5 \n",
      "[CV]  subsample=1.0, reg_lambda=1, n_estimators=50, min_child_weight=10, max_depth=4, learning_rate=0.05, gamma=0.5, colsample_bytree=0.5, score=0.8566988150678561, total=  10.2s\n",
      "[CV] subsample=1.0, reg_lambda=1, n_estimators=50, min_child_weight=10, max_depth=4, learning_rate=0.05, gamma=0.5, colsample_bytree=0.5 \n",
      "[CV]  subsample=1.0, reg_lambda=1, n_estimators=50, min_child_weight=10, max_depth=4, learning_rate=0.05, gamma=0.5, colsample_bytree=0.5, score=0.8427010990359438, total=  10.9s\n",
      "[CV] subsample=1.0, reg_lambda=1, n_estimators=50, min_child_weight=10, max_depth=4, learning_rate=0.05, gamma=0.5, colsample_bytree=0.5 \n",
      "[CV]  subsample=1.0, reg_lambda=1, n_estimators=50, min_child_weight=10, max_depth=4, learning_rate=0.05, gamma=0.5, colsample_bytree=0.5, score=0.8472156772485251, total=  10.1s\n",
      "[CV] subsample=0.8, reg_lambda=1, n_estimators=500, min_child_weight=10, max_depth=9, learning_rate=0.05, gamma=0, colsample_bytree=0.6 \n",
      "[CV]  subsample=1.0, reg_lambda=1, n_estimators=100, min_child_weight=10, max_depth=7, learning_rate=0.05, gamma=2, colsample_bytree=0.6, score=0.8596705465096258, total=  40.3s\n",
      "[CV] subsample=0.8, reg_lambda=1, n_estimators=500, min_child_weight=10, max_depth=9, learning_rate=0.05, gamma=0, colsample_bytree=0.6 \n",
      "[CV]  subsample=1.0, reg_lambda=1, n_estimators=100, min_child_weight=10, max_depth=7, learning_rate=0.05, gamma=2, colsample_bytree=0.6, score=0.8598081515263649, total=  41.8s\n",
      "[CV] subsample=0.8, reg_lambda=1, n_estimators=500, min_child_weight=10, max_depth=9, learning_rate=0.05, gamma=0, colsample_bytree=0.6 \n",
      "[CV]  subsample=0.8, reg_lambda=1, n_estimators=50, min_child_weight=5, max_depth=9, learning_rate=0.1, gamma=0.5, colsample_bytree=0.8, score=0.8585147082398997, total=  36.5s\n",
      "[CV] subsample=0.8, reg_lambda=1, n_estimators=500, min_child_weight=10, max_depth=9, learning_rate=0.05, gamma=0, colsample_bytree=0.6 \n",
      "[CV]  subsample=1.0, reg_lambda=1, n_estimators=50, min_child_weight=10, max_depth=4, learning_rate=0.05, gamma=0.5, colsample_bytree=0.5, score=0.8571330072034945, total=  10.3s\n",
      "[CV] subsample=0.8, reg_lambda=1, n_estimators=500, min_child_weight=10, max_depth=9, learning_rate=0.05, gamma=0, colsample_bytree=0.6 \n",
      "[CV]  subsample=1.0, reg_lambda=1, n_estimators=100, min_child_weight=10, max_depth=7, learning_rate=0.05, gamma=2, colsample_bytree=0.6, score=0.8684142098044237, total=  40.6s\n",
      "[CV] subsample=0.8, reg_lambda=1, n_estimators=50, min_child_weight=5, max_depth=7, learning_rate=0.05, gamma=5, colsample_bytree=0.8 \n",
      "[CV]  subsample=1.0, reg_lambda=1, n_estimators=50, min_child_weight=10, max_depth=4, learning_rate=0.05, gamma=0.5, colsample_bytree=0.5, score=0.8496887610586094, total=  10.9s\n",
      "[CV] subsample=0.8, reg_lambda=1, n_estimators=50, min_child_weight=5, max_depth=7, learning_rate=0.05, gamma=5, colsample_bytree=0.8 \n",
      "[CV]  subsample=1.0, reg_lambda=1, n_estimators=100, min_child_weight=10, max_depth=7, learning_rate=0.05, gamma=2, colsample_bytree=0.6, score=0.879972182070531, total=  41.8s\n",
      "[CV] subsample=0.8, reg_lambda=1, n_estimators=50, min_child_weight=5, max_depth=7, learning_rate=0.05, gamma=5, colsample_bytree=0.8 \n",
      "[CV]  subsample=0.8, reg_lambda=1, n_estimators=50, min_child_weight=5, max_depth=9, learning_rate=0.1, gamma=0.5, colsample_bytree=0.8, score=0.8536667187849447, total=  37.5s\n",
      "[CV] subsample=0.8, reg_lambda=1, n_estimators=50, min_child_weight=5, max_depth=7, learning_rate=0.05, gamma=5, colsample_bytree=0.8 \n",
      "[CV]  subsample=0.8, reg_lambda=1, n_estimators=50, min_child_weight=5, max_depth=9, learning_rate=0.1, gamma=0.5, colsample_bytree=0.8, score=0.8595978305189671, total=  36.7s\n",
      "[CV] subsample=0.8, reg_lambda=1, n_estimators=50, min_child_weight=5, max_depth=7, learning_rate=0.05, gamma=5, colsample_bytree=0.8 \n",
      "[CV]  subsample=0.8, reg_lambda=1, n_estimators=50, min_child_weight=5, max_depth=9, learning_rate=0.1, gamma=0.5, colsample_bytree=0.8, score=0.8730167076230453, total=  36.7s\n",
      "[CV] subsample=0.8, reg_lambda=1, n_estimators=500, min_child_weight=1, max_depth=9, learning_rate=0.1, gamma=0, colsample_bytree=0.8 \n",
      "[CV]  subsample=0.8, reg_lambda=1, n_estimators=50, min_child_weight=5, max_depth=9, learning_rate=0.1, gamma=0.5, colsample_bytree=0.8, score=0.8634597940026956, total=  37.1s\n",
      "[CV] subsample=0.8, reg_lambda=1, n_estimators=500, min_child_weight=1, max_depth=9, learning_rate=0.1, gamma=0, colsample_bytree=0.8 \n",
      "[CV]  subsample=0.8, reg_lambda=1, n_estimators=600, min_child_weight=10, max_depth=6, learning_rate=0.05, gamma=0.5, colsample_bytree=0.5, score=0.8656852596974632, total= 2.8min\n",
      "[CV] subsample=0.8, reg_lambda=1, n_estimators=500, min_child_weight=1, max_depth=9, learning_rate=0.1, gamma=0, colsample_bytree=0.8 \n",
      "[CV]  subsample=0.8, reg_lambda=1, n_estimators=50, min_child_weight=5, max_depth=7, learning_rate=0.05, gamma=5, colsample_bytree=0.8, score=0.8611915425888798, total=  28.6s\n",
      "[CV] subsample=0.8, reg_lambda=1, n_estimators=500, min_child_weight=1, max_depth=9, learning_rate=0.1, gamma=0, colsample_bytree=0.8 \n",
      "[CV]  subsample=0.8, reg_lambda=1, n_estimators=50, min_child_weight=5, max_depth=7, learning_rate=0.05, gamma=5, colsample_bytree=0.8, score=0.8520447847746015, total=  28.4s\n",
      "[CV] subsample=0.8, reg_lambda=1, n_estimators=500, min_child_weight=1, max_depth=9, learning_rate=0.1, gamma=0, colsample_bytree=0.8 \n",
      "[CV]  subsample=0.8, reg_lambda=1, n_estimators=50, min_child_weight=5, max_depth=7, learning_rate=0.05, gamma=5, colsample_bytree=0.8, score=0.8511919347846144, total=  28.4s\n",
      "[CV] subsample=0.6, reg_lambda=1, n_estimators=50, min_child_weight=1, max_depth=6, learning_rate=0.05, gamma=0, colsample_bytree=0.5 \n"
     ]
    },
    {
     "name": "stderr",
     "output_type": "stream",
     "text": [
      "[Parallel(n_jobs=-1)]: Done  64 tasks      | elapsed:  3.0min\n"
     ]
    },
    {
     "name": "stdout",
     "output_type": "stream",
     "text": [
      "[CV]  subsample=0.8, reg_lambda=1, n_estimators=600, min_child_weight=10, max_depth=6, learning_rate=0.05, gamma=0.5, colsample_bytree=0.5, score=0.8591925757182922, total= 2.9min\n",
      "[CV] subsample=0.6, reg_lambda=1, n_estimators=50, min_child_weight=1, max_depth=6, learning_rate=0.05, gamma=0, colsample_bytree=0.5 \n",
      "[CV]  subsample=0.8, reg_lambda=1, n_estimators=50, min_child_weight=5, max_depth=7, learning_rate=0.05, gamma=5, colsample_bytree=0.8, score=0.867353913706878, total=  28.1s\n",
      "[CV] subsample=0.6, reg_lambda=1, n_estimators=50, min_child_weight=1, max_depth=6, learning_rate=0.05, gamma=0, colsample_bytree=0.5 \n",
      "[CV]  subsample=0.8, reg_lambda=1, n_estimators=600, min_child_weight=10, max_depth=6, learning_rate=0.05, gamma=0.5, colsample_bytree=0.5, score=0.8737071954586535, total= 2.8min\n",
      "[CV] subsample=0.6, reg_lambda=1, n_estimators=50, min_child_weight=1, max_depth=6, learning_rate=0.05, gamma=0, colsample_bytree=0.5 \n",
      "[CV]  subsample=0.8, reg_lambda=1, n_estimators=600, min_child_weight=10, max_depth=6, learning_rate=0.05, gamma=0.5, colsample_bytree=0.5, score=0.8610700775707527, total= 2.8min\n",
      "[CV] subsample=0.6, reg_lambda=1, n_estimators=50, min_child_weight=1, max_depth=6, learning_rate=0.05, gamma=0, colsample_bytree=0.5 \n",
      "[CV]  subsample=0.8, reg_lambda=1, n_estimators=50, min_child_weight=5, max_depth=7, learning_rate=0.05, gamma=5, colsample_bytree=0.8, score=0.8600794373879749, total=  29.2s\n",
      "[CV] subsample=0.6, reg_lambda=1, n_estimators=500, min_child_weight=1, max_depth=3, learning_rate=0.05, gamma=1, colsample_bytree=0.5 \n",
      "[CV]  subsample=0.8, reg_lambda=1, n_estimators=600, min_child_weight=10, max_depth=6, learning_rate=0.05, gamma=0.5, colsample_bytree=0.5, score=0.8626807041781049, total= 2.9min\n",
      "[CV] subsample=0.6, reg_lambda=1, n_estimators=500, min_child_weight=1, max_depth=3, learning_rate=0.05, gamma=1, colsample_bytree=0.5 \n",
      "[CV]  subsample=0.6, reg_lambda=1, n_estimators=50, min_child_weight=1, max_depth=6, learning_rate=0.05, gamma=0, colsample_bytree=0.5, score=0.8584513746360791, total=  17.0s\n",
      "[CV] subsample=0.6, reg_lambda=1, n_estimators=500, min_child_weight=1, max_depth=3, learning_rate=0.05, gamma=1, colsample_bytree=0.5 \n",
      "[CV]  subsample=0.6, reg_lambda=1, n_estimators=50, min_child_weight=1, max_depth=6, learning_rate=0.05, gamma=0, colsample_bytree=0.5, score=0.8552787569196909, total=  16.5s\n",
      "[CV] subsample=0.6, reg_lambda=1, n_estimators=500, min_child_weight=1, max_depth=3, learning_rate=0.05, gamma=1, colsample_bytree=0.5 \n",
      "[CV]  subsample=0.6, reg_lambda=1, n_estimators=50, min_child_weight=1, max_depth=6, learning_rate=0.05, gamma=0, colsample_bytree=0.5, score=0.8558864584025723, total=  16.6s\n",
      "[CV] subsample=0.6, reg_lambda=1, n_estimators=500, min_child_weight=1, max_depth=3, learning_rate=0.05, gamma=1, colsample_bytree=0.5 \n",
      "[CV]  subsample=0.6, reg_lambda=1, n_estimators=50, min_child_weight=1, max_depth=6, learning_rate=0.05, gamma=0, colsample_bytree=0.5, score=0.865660928805347, total=  17.0s\n",
      "[CV] subsample=0.6, reg_lambda=1, n_estimators=50, min_child_weight=10, max_depth=3, learning_rate=0.2, gamma=1.5, colsample_bytree=0.8 \n",
      "[CV]  subsample=0.6, reg_lambda=1, n_estimators=50, min_child_weight=1, max_depth=6, learning_rate=0.05, gamma=0, colsample_bytree=0.5, score=0.858578821063413, total=  17.0s\n",
      "[CV] subsample=0.6, reg_lambda=1, n_estimators=50, min_child_weight=10, max_depth=3, learning_rate=0.2, gamma=1.5, colsample_bytree=0.8 \n",
      "[CV]  subsample=0.6, reg_lambda=1, n_estimators=50, min_child_weight=10, max_depth=3, learning_rate=0.2, gamma=1.5, colsample_bytree=0.8, score=0.8590886690245241, total=  13.7s\n",
      "[CV]  subsample=0.6, reg_lambda=1, n_estimators=50, min_child_weight=10, max_depth=3, learning_rate=0.2, gamma=1.5, colsample_bytree=0.8, score=0.8543619040456318, total=  13.6s\n",
      "[CV] subsample=0.6, reg_lambda=1, n_estimators=50, min_child_weight=10, max_depth=3, learning_rate=0.2, gamma=1.5, colsample_bytree=0.8 \n",
      "[CV] subsample=0.6, reg_lambda=1, n_estimators=50, min_child_weight=10, max_depth=3, learning_rate=0.2, gamma=1.5, colsample_bytree=0.8 \n",
      "[CV]  subsample=0.8, reg_lambda=1, n_estimators=600, min_child_weight=10, max_depth=10, learning_rate=0.1, gamma=0, colsample_bytree=0.5, score=0.8616398257534226, total= 3.8min\n",
      "[CV] subsample=0.6, reg_lambda=1, n_estimators=50, min_child_weight=10, max_depth=3, learning_rate=0.2, gamma=1.5, colsample_bytree=0.8 \n",
      "[CV]  subsample=0.8, reg_lambda=1, n_estimators=600, min_child_weight=10, max_depth=10, learning_rate=0.1, gamma=0, colsample_bytree=0.5, score=0.8675781238374061, total= 3.8min\n",
      "[CV] subsample=1.0, reg_lambda=1, n_estimators=100, min_child_weight=1, max_depth=10, learning_rate=0.2, gamma=0, colsample_bytree=0.5 \n",
      "[CV]  subsample=0.6, reg_lambda=1, n_estimators=50, min_child_weight=10, max_depth=3, learning_rate=0.2, gamma=1.5, colsample_bytree=0.8, score=0.8635264682043249, total=  12.8s\n",
      "[CV] subsample=1.0, reg_lambda=1, n_estimators=100, min_child_weight=1, max_depth=10, learning_rate=0.2, gamma=0, colsample_bytree=0.5 \n",
      "[CV]  subsample=0.6, reg_lambda=1, n_estimators=50, min_child_weight=10, max_depth=3, learning_rate=0.2, gamma=1.5, colsample_bytree=0.8, score=0.8631152509516529, total=  13.1s\n",
      "[CV] subsample=1.0, reg_lambda=1, n_estimators=100, min_child_weight=1, max_depth=10, learning_rate=0.2, gamma=0, colsample_bytree=0.5 \n",
      "[CV]  subsample=0.8, reg_lambda=1, n_estimators=600, min_child_weight=10, max_depth=10, learning_rate=0.1, gamma=0, colsample_bytree=0.5, score=0.8553935490766158, total= 3.8min\n",
      "[CV]  subsample=0.8, reg_lambda=1, n_estimators=600, min_child_weight=10, max_depth=10, learning_rate=0.1, gamma=0, colsample_bytree=0.5, score=0.8615492523187396, total= 3.8min\n",
      "[CV] subsample=1.0, reg_lambda=1, n_estimators=100, min_child_weight=1, max_depth=10, learning_rate=0.2, gamma=0, colsample_bytree=0.5 \n",
      "[CV] subsample=1.0, reg_lambda=1, n_estimators=100, min_child_weight=1, max_depth=10, learning_rate=0.2, gamma=0, colsample_bytree=0.5 \n",
      "[CV]  subsample=0.8, reg_lambda=1, n_estimators=600, min_child_weight=10, max_depth=10, learning_rate=0.1, gamma=0, colsample_bytree=0.5, score=0.8601518877793062, total= 3.8min\n",
      "[CV] subsample=0.6, reg_lambda=1, n_estimators=50, min_child_weight=10, max_depth=5, learning_rate=0.2, gamma=1.5, colsample_bytree=0.5 \n",
      "[CV]  subsample=1.0, reg_lambda=1, n_estimators=600, min_child_weight=1, max_depth=9, learning_rate=0.1, gamma=0, colsample_bytree=0.5, score=0.8617090968826012, total= 3.9min\n",
      "[CV] subsample=0.6, reg_lambda=1, n_estimators=50, min_child_weight=10, max_depth=5, learning_rate=0.2, gamma=1.5, colsample_bytree=0.5 \n",
      "[CV]  subsample=1.0, reg_lambda=1, n_estimators=600, min_child_weight=1, max_depth=9, learning_rate=0.1, gamma=0, colsample_bytree=0.5, score=0.862176247020039, total= 3.9min\n",
      "[CV] subsample=0.6, reg_lambda=1, n_estimators=50, min_child_weight=10, max_depth=5, learning_rate=0.2, gamma=1.5, colsample_bytree=0.5 \n",
      "[CV]  subsample=1.0, reg_lambda=1, n_estimators=600, min_child_weight=1, max_depth=9, learning_rate=0.1, gamma=0, colsample_bytree=0.5, score=0.8734165159531461, total= 3.9min\n",
      "[CV] subsample=0.6, reg_lambda=1, n_estimators=50, min_child_weight=10, max_depth=5, learning_rate=0.2, gamma=1.5, colsample_bytree=0.5 \n",
      "[CV]  subsample=1.0, reg_lambda=1, n_estimators=600, min_child_weight=1, max_depth=9, learning_rate=0.1, gamma=0, colsample_bytree=0.5, score=0.8646199927351114, total= 3.9min\n",
      "[CV] subsample=0.6, reg_lambda=1, n_estimators=50, min_child_weight=10, max_depth=5, learning_rate=0.2, gamma=1.5, colsample_bytree=0.5 \n",
      "[CV]  subsample=1.0, reg_lambda=1, n_estimators=600, min_child_weight=1, max_depth=9, learning_rate=0.1, gamma=0, colsample_bytree=0.5, score=0.8594122641565449, total= 3.9min\n",
      "[CV] subsample=0.8, reg_lambda=1, n_estimators=600, min_child_weight=5, max_depth=10, learning_rate=0.05, gamma=0.5, colsample_bytree=0.6 \n",
      "[CV]  subsample=0.6, reg_lambda=1, n_estimators=50, min_child_weight=10, max_depth=3, learning_rate=0.2, gamma=1.5, colsample_bytree=0.8, score=0.8623283769325895, total=  13.5s\n",
      "[CV] subsample=0.8, reg_lambda=1, n_estimators=600, min_child_weight=5, max_depth=10, learning_rate=0.05, gamma=0.5, colsample_bytree=0.6 \n",
      "[CV]  subsample=0.6, reg_lambda=1, n_estimators=50, min_child_weight=10, max_depth=5, learning_rate=0.2, gamma=1.5, colsample_bytree=0.5, score=0.8549225053982001, total=  14.6s\n",
      "[CV] subsample=0.8, reg_lambda=1, n_estimators=600, min_child_weight=5, max_depth=10, learning_rate=0.05, gamma=0.5, colsample_bytree=0.6 \n",
      "[CV]  subsample=0.6, reg_lambda=1, n_estimators=50, min_child_weight=10, max_depth=5, learning_rate=0.2, gamma=1.5, colsample_bytree=0.5, score=0.8491081836912012, total=  14.2s\n",
      "[CV] subsample=0.8, reg_lambda=1, n_estimators=600, min_child_weight=5, max_depth=10, learning_rate=0.05, gamma=0.5, colsample_bytree=0.6 \n",
      "[CV]  subsample=0.6, reg_lambda=1, n_estimators=50, min_child_weight=10, max_depth=5, learning_rate=0.2, gamma=1.5, colsample_bytree=0.5, score=0.8563676173110063, total=  14.2s\n",
      "[CV] subsample=0.8, reg_lambda=1, n_estimators=600, min_child_weight=5, max_depth=10, learning_rate=0.05, gamma=0.5, colsample_bytree=0.6 \n",
      "[CV]  subsample=0.6, reg_lambda=1, n_estimators=50, min_child_weight=10, max_depth=5, learning_rate=0.2, gamma=1.5, colsample_bytree=0.5, score=0.8635949217397515, total=  14.1s\n",
      "[CV] subsample=0.8, reg_lambda=1, n_estimators=50, min_child_weight=10, max_depth=6, learning_rate=0.05, gamma=0, colsample_bytree=0.5 \n",
      "[CV]  subsample=0.6, reg_lambda=1, n_estimators=50, min_child_weight=10, max_depth=5, learning_rate=0.2, gamma=1.5, colsample_bytree=0.5, score=0.862123927883079, total=  14.0s\n",
      "[CV] subsample=0.8, reg_lambda=1, n_estimators=50, min_child_weight=10, max_depth=6, learning_rate=0.05, gamma=0, colsample_bytree=0.5 \n",
      "[CV]  subsample=0.8, reg_lambda=1, n_estimators=50, min_child_weight=10, max_depth=6, learning_rate=0.05, gamma=0, colsample_bytree=0.5, score=0.8618506079036379, total=  15.8s\n",
      "[CV] subsample=0.8, reg_lambda=1, n_estimators=50, min_child_weight=10, max_depth=6, learning_rate=0.05, gamma=0, colsample_bytree=0.5 \n",
      "[CV]  subsample=0.8, reg_lambda=1, n_estimators=50, min_child_weight=10, max_depth=6, learning_rate=0.05, gamma=0, colsample_bytree=0.5, score=0.8549096407599241, total=  15.7s\n",
      "[CV] subsample=0.8, reg_lambda=1, n_estimators=50, min_child_weight=10, max_depth=6, learning_rate=0.05, gamma=0, colsample_bytree=0.5 \n",
      "[CV]  subsample=0.6, reg_lambda=1, n_estimators=500, min_child_weight=1, max_depth=3, learning_rate=0.05, gamma=1, colsample_bytree=0.5, score=0.8616487320414599, total= 1.4min\n",
      "[CV] subsample=0.8, reg_lambda=1, n_estimators=50, min_child_weight=10, max_depth=6, learning_rate=0.05, gamma=0, colsample_bytree=0.5 \n",
      "[CV]  subsample=0.6, reg_lambda=1, n_estimators=500, min_child_weight=1, max_depth=3, learning_rate=0.05, gamma=1, colsample_bytree=0.5, score=0.8672418809288666, total= 1.4min\n",
      "[CV] subsample=0.6, reg_lambda=1, n_estimators=600, min_child_weight=10, max_depth=7, learning_rate=0.05, gamma=5, colsample_bytree=0.8 \n",
      "[CV]  subsample=1.0, reg_lambda=1, n_estimators=100, min_child_weight=1, max_depth=10, learning_rate=0.2, gamma=0, colsample_bytree=0.5, score=0.8654329148697406, total=  50.7s\n",
      "[CV] subsample=0.6, reg_lambda=1, n_estimators=600, min_child_weight=10, max_depth=7, learning_rate=0.05, gamma=5, colsample_bytree=0.8 \n",
      "[CV]  subsample=1.0, reg_lambda=1, n_estimators=100, min_child_weight=1, max_depth=10, learning_rate=0.2, gamma=0, colsample_bytree=0.5, score=0.8545227120240826, total=  51.2s\n",
      "[CV]  subsample=1.0, reg_lambda=1, n_estimators=100, min_child_weight=1, max_depth=10, learning_rate=0.2, gamma=0, colsample_bytree=0.5, score=0.8556553037104793, total=  51.1s\n",
      "[CV] subsample=0.6, reg_lambda=1, n_estimators=600, min_child_weight=10, max_depth=7, learning_rate=0.05, gamma=5, colsample_bytree=0.8 \n",
      "[CV] subsample=0.6, reg_lambda=1, n_estimators=600, min_child_weight=10, max_depth=7, learning_rate=0.05, gamma=5, colsample_bytree=0.8 \n",
      "[CV]  subsample=1.0, reg_lambda=1, n_estimators=100, min_child_weight=1, max_depth=10, learning_rate=0.2, gamma=0, colsample_bytree=0.5, score=0.8725424932761763, total=  51.5s\n",
      "[CV] subsample=0.6, reg_lambda=1, n_estimators=600, min_child_weight=10, max_depth=7, learning_rate=0.05, gamma=5, colsample_bytree=0.8 \n",
      "[CV]  subsample=0.6, reg_lambda=1, n_estimators=500, min_child_weight=1, max_depth=3, learning_rate=0.05, gamma=1, colsample_bytree=0.5, score=0.8718768074461574, total= 1.4min\n",
      "[CV] subsample=0.8, reg_lambda=1, n_estimators=100, min_child_weight=5, max_depth=9, learning_rate=0.1, gamma=0, colsample_bytree=0.5 \n",
      "[CV]  subsample=1.0, reg_lambda=1, n_estimators=100, min_child_weight=1, max_depth=10, learning_rate=0.2, gamma=0, colsample_bytree=0.5, score=0.8689243399570855, total=  52.0s\n",
      "[CV] subsample=0.8, reg_lambda=1, n_estimators=100, min_child_weight=5, max_depth=9, learning_rate=0.1, gamma=0, colsample_bytree=0.5 \n",
      "[CV]  subsample=0.8, reg_lambda=1, n_estimators=50, min_child_weight=10, max_depth=6, learning_rate=0.05, gamma=0, colsample_bytree=0.5, score=0.8548229484028996, total=  16.3s\n",
      "[CV] subsample=0.8, reg_lambda=1, n_estimators=100, min_child_weight=5, max_depth=9, learning_rate=0.1, gamma=0, colsample_bytree=0.5 \n",
      "[CV]  subsample=0.8, reg_lambda=1, n_estimators=50, min_child_weight=10, max_depth=6, learning_rate=0.05, gamma=0, colsample_bytree=0.5, score=0.869544426840532, total=  16.0s\n",
      "[CV] subsample=0.8, reg_lambda=1, n_estimators=100, min_child_weight=5, max_depth=9, learning_rate=0.1, gamma=0, colsample_bytree=0.5 \n",
      "[CV]  subsample=0.6, reg_lambda=1, n_estimators=500, min_child_weight=1, max_depth=3, learning_rate=0.05, gamma=1, colsample_bytree=0.5, score=0.8779632196177911, total= 1.4min\n",
      "[CV] subsample=0.8, reg_lambda=1, n_estimators=100, min_child_weight=5, max_depth=9, learning_rate=0.1, gamma=0, colsample_bytree=0.5 \n",
      "[CV]  subsample=0.6, reg_lambda=1, n_estimators=500, min_child_weight=1, max_depth=3, learning_rate=0.05, gamma=1, colsample_bytree=0.5, score=0.8705519925842558, total= 1.4min\n",
      "[CV] subsample=0.8, reg_lambda=1, n_estimators=100, min_child_weight=1, max_depth=7, learning_rate=0.05, gamma=0, colsample_bytree=0.5 \n",
      "[CV]  subsample=0.8, reg_lambda=1, n_estimators=50, min_child_weight=10, max_depth=6, learning_rate=0.05, gamma=0, colsample_bytree=0.5, score=0.8616624288150094, total=  16.2s\n",
      "[CV] subsample=0.8, reg_lambda=1, n_estimators=100, min_child_weight=1, max_depth=7, learning_rate=0.05, gamma=0, colsample_bytree=0.5 \n",
      "[CV]  subsample=0.8, reg_lambda=1, n_estimators=100, min_child_weight=1, max_depth=7, learning_rate=0.05, gamma=0, colsample_bytree=0.5, score=0.8663710438763333, total=  37.5s\n",
      "[CV] subsample=0.8, reg_lambda=1, n_estimators=100, min_child_weight=1, max_depth=7, learning_rate=0.05, gamma=0, colsample_bytree=0.5 \n",
      "[CV]  subsample=0.8, reg_lambda=1, n_estimators=100, min_child_weight=1, max_depth=7, learning_rate=0.05, gamma=0, colsample_bytree=0.5, score=0.8592232529326427, total=  37.0s\n",
      "[CV] subsample=0.8, reg_lambda=1, n_estimators=100, min_child_weight=1, max_depth=7, learning_rate=0.05, gamma=0, colsample_bytree=0.5 \n",
      "[CV]  subsample=0.8, reg_lambda=1, n_estimators=100, min_child_weight=5, max_depth=9, learning_rate=0.1, gamma=0, colsample_bytree=0.5, score=0.8618545662538767, total=  46.7s\n",
      "[CV]  subsample=0.8, reg_lambda=1, n_estimators=100, min_child_weight=5, max_depth=9, learning_rate=0.1, gamma=0, colsample_bytree=0.5, score=0.8534005197313863, total=  46.5s\n",
      "[CV] subsample=0.8, reg_lambda=1, n_estimators=100, min_child_weight=1, max_depth=7, learning_rate=0.05, gamma=0, colsample_bytree=0.5 \n",
      "[CV] subsample=1.0, reg_lambda=1, n_estimators=100, min_child_weight=1, max_depth=8, learning_rate=0.05, gamma=0, colsample_bytree=0.6 \n",
      "[CV]  subsample=0.8, reg_lambda=1, n_estimators=100, min_child_weight=5, max_depth=9, learning_rate=0.1, gamma=0, colsample_bytree=0.5, score=0.8556553037104793, total=  47.0s\n",
      "[CV] subsample=1.0, reg_lambda=1, n_estimators=100, min_child_weight=1, max_depth=8, learning_rate=0.05, gamma=0, colsample_bytree=0.6 \n",
      "[CV]  subsample=0.8, reg_lambda=1, n_estimators=100, min_child_weight=5, max_depth=9, learning_rate=0.1, gamma=0, colsample_bytree=0.5, score=0.872809362856318, total=  46.5s\n",
      "[CV] subsample=1.0, reg_lambda=1, n_estimators=100, min_child_weight=1, max_depth=8, learning_rate=0.05, gamma=0, colsample_bytree=0.6 \n",
      "[CV]  subsample=0.8, reg_lambda=1, n_estimators=100, min_child_weight=5, max_depth=9, learning_rate=0.1, gamma=0, colsample_bytree=0.5, score=0.8660431963127713, total=  47.0s\n",
      "[CV] subsample=1.0, reg_lambda=1, n_estimators=100, min_child_weight=1, max_depth=8, learning_rate=0.05, gamma=0, colsample_bytree=0.6 \n",
      "[CV]  subsample=0.8, reg_lambda=1, n_estimators=100, min_child_weight=1, max_depth=7, learning_rate=0.05, gamma=0, colsample_bytree=0.5, score=0.8641862015530024, total=  38.3s\n",
      "[CV] subsample=1.0, reg_lambda=1, n_estimators=100, min_child_weight=1, max_depth=8, learning_rate=0.05, gamma=0, colsample_bytree=0.6 \n",
      "[CV]  subsample=0.8, reg_lambda=1, n_estimators=100, min_child_weight=1, max_depth=7, learning_rate=0.05, gamma=0, colsample_bytree=0.5, score=0.8790654207461832, total=  38.9s\n",
      "[CV] subsample=1.0, reg_lambda=1, n_estimators=50, min_child_weight=10, max_depth=8, learning_rate=0.2, gamma=1, colsample_bytree=0.6 \n",
      "[CV]  subsample=0.8, reg_lambda=1, n_estimators=100, min_child_weight=1, max_depth=7, learning_rate=0.05, gamma=0, colsample_bytree=0.5, score=0.8694364550519758, total=  38.5s\n",
      "[CV] subsample=1.0, reg_lambda=1, n_estimators=50, min_child_weight=10, max_depth=8, learning_rate=0.2, gamma=1, colsample_bytree=0.6 \n",
      "[CV]  subsample=1.0, reg_lambda=1, n_estimators=100, min_child_weight=1, max_depth=8, learning_rate=0.05, gamma=0, colsample_bytree=0.6, score=0.8654665608467702, total=  50.4s\n",
      "[CV] subsample=1.0, reg_lambda=1, n_estimators=50, min_child_weight=10, max_depth=8, learning_rate=0.2, gamma=1, colsample_bytree=0.6 \n",
      "[CV]  subsample=1.0, reg_lambda=1, n_estimators=100, min_child_weight=1, max_depth=8, learning_rate=0.05, gamma=0, colsample_bytree=0.6, score=0.8570650497081798, total=  50.3s\n",
      "[CV] subsample=1.0, reg_lambda=1, n_estimators=50, min_child_weight=10, max_depth=8, learning_rate=0.2, gamma=1, colsample_bytree=0.6 \n",
      "[CV]  subsample=1.0, reg_lambda=1, n_estimators=100, min_child_weight=1, max_depth=8, learning_rate=0.05, gamma=0, colsample_bytree=0.6, score=0.8579239244667607, total=  51.8s\n",
      "[CV] subsample=1.0, reg_lambda=1, n_estimators=50, min_child_weight=10, max_depth=8, learning_rate=0.2, gamma=1, colsample_bytree=0.6 \n",
      "[CV]  subsample=1.0, reg_lambda=1, n_estimators=100, min_child_weight=1, max_depth=8, learning_rate=0.05, gamma=0, colsample_bytree=0.6, score=0.8766149825939527, total=  50.5s\n",
      "[CV] subsample=0.6, reg_lambda=1, n_estimators=500, min_child_weight=1, max_depth=9, learning_rate=0.2, gamma=5, colsample_bytree=0.5 \n",
      "[CV]  subsample=1.0, reg_lambda=1, n_estimators=50, min_child_weight=10, max_depth=8, learning_rate=0.2, gamma=1, colsample_bytree=0.6, score=0.8559200096583746, total=  24.6s\n",
      "[CV] subsample=0.6, reg_lambda=1, n_estimators=500, min_child_weight=1, max_depth=9, learning_rate=0.2, gamma=5, colsample_bytree=0.5 \n",
      "[CV]  subsample=1.0, reg_lambda=1, n_estimators=50, min_child_weight=10, max_depth=8, learning_rate=0.2, gamma=1, colsample_bytree=0.6, score=0.8575548083069937, total=  24.8s\n",
      "[CV] subsample=0.6, reg_lambda=1, n_estimators=500, min_child_weight=1, max_depth=9, learning_rate=0.2, gamma=5, colsample_bytree=0.5 \n",
      "[CV]  subsample=0.8, reg_lambda=1, n_estimators=500, min_child_weight=10, max_depth=9, learning_rate=0.05, gamma=0, colsample_bytree=0.6, score=0.8639960337330609, total= 4.3min\n",
      "[CV] subsample=0.6, reg_lambda=1, n_estimators=500, min_child_weight=1, max_depth=9, learning_rate=0.2, gamma=5, colsample_bytree=0.5 \n",
      "[CV]  subsample=0.8, reg_lambda=1, n_estimators=500, min_child_weight=10, max_depth=9, learning_rate=0.05, gamma=0, colsample_bytree=0.6, score=0.8639831690947847, total= 4.3min\n",
      "[CV] subsample=0.6, reg_lambda=1, n_estimators=500, min_child_weight=1, max_depth=9, learning_rate=0.2, gamma=5, colsample_bytree=0.5 \n",
      "[CV]  subsample=1.0, reg_lambda=1, n_estimators=50, min_child_weight=10, max_depth=8, learning_rate=0.2, gamma=1, colsample_bytree=0.6, score=0.8582555459764698, total=  24.2s\n",
      "[CV] subsample=1.0, reg_lambda=1, n_estimators=100, min_child_weight=10, max_depth=4, learning_rate=0.05, gamma=0.5, colsample_bytree=0.8 \n",
      "[CV]  subsample=1.0, reg_lambda=1, n_estimators=50, min_child_weight=10, max_depth=8, learning_rate=0.2, gamma=1, colsample_bytree=0.6, score=0.8678271359735232, total=  23.7s\n",
      "[CV] subsample=1.0, reg_lambda=1, n_estimators=100, min_child_weight=10, max_depth=4, learning_rate=0.05, gamma=0.5, colsample_bytree=0.8 \n",
      "[CV]  subsample=1.0, reg_lambda=1, n_estimators=50, min_child_weight=10, max_depth=8, learning_rate=0.2, gamma=1, colsample_bytree=0.6, score=0.8580746457374356, total=  23.5s\n",
      "[CV] subsample=1.0, reg_lambda=1, n_estimators=100, min_child_weight=10, max_depth=4, learning_rate=0.05, gamma=0.5, colsample_bytree=0.8 \n",
      "[CV]  subsample=0.8, reg_lambda=1, n_estimators=500, min_child_weight=10, max_depth=9, learning_rate=0.05, gamma=0, colsample_bytree=0.6, score=0.8753917476782842, total= 4.3min\n",
      "[CV] subsample=1.0, reg_lambda=1, n_estimators=100, min_child_weight=10, max_depth=4, learning_rate=0.05, gamma=0.5, colsample_bytree=0.8 \n",
      "[CV]  subsample=0.8, reg_lambda=1, n_estimators=500, min_child_weight=10, max_depth=9, learning_rate=0.05, gamma=0, colsample_bytree=0.6, score=0.8636792485587554, total= 4.4min\n",
      "[CV] subsample=1.0, reg_lambda=1, n_estimators=100, min_child_weight=10, max_depth=4, learning_rate=0.05, gamma=0.5, colsample_bytree=0.8 \n",
      "[CV]  subsample=0.8, reg_lambda=1, n_estimators=500, min_child_weight=10, max_depth=9, learning_rate=0.05, gamma=0, colsample_bytree=0.6, score=0.8654070223286152, total= 4.4min\n",
      "[CV] subsample=1.0, reg_lambda=1, n_estimators=100, min_child_weight=1, max_depth=4, learning_rate=0.2, gamma=5, colsample_bytree=0.8 \n",
      "[CV]  subsample=1.0, reg_lambda=1, n_estimators=100, min_child_weight=1, max_depth=8, learning_rate=0.05, gamma=0, colsample_bytree=0.6, score=0.8691307739488243, total=  52.4s\n",
      "[CV] subsample=1.0, reg_lambda=1, n_estimators=100, min_child_weight=1, max_depth=4, learning_rate=0.2, gamma=5, colsample_bytree=0.8 \n",
      "[CV]  subsample=0.6, reg_lambda=1, n_estimators=600, min_child_weight=5, max_depth=9, learning_rate=0.05, gamma=5, colsample_bytree=0.8, score=0.8562455839655148, total= 6.9min\n",
      "[CV] subsample=1.0, reg_lambda=1, n_estimators=100, min_child_weight=1, max_depth=4, learning_rate=0.2, gamma=5, colsample_bytree=0.8 \n",
      "[CV]  subsample=0.6, reg_lambda=1, n_estimators=600, min_child_weight=5, max_depth=9, learning_rate=0.05, gamma=5, colsample_bytree=0.8, score=0.860368676852685, total= 7.0min\n",
      "[CV] subsample=1.0, reg_lambda=1, n_estimators=100, min_child_weight=1, max_depth=4, learning_rate=0.2, gamma=5, colsample_bytree=0.8 \n",
      "[CV]  subsample=0.6, reg_lambda=1, n_estimators=600, min_child_weight=5, max_depth=9, learning_rate=0.05, gamma=5, colsample_bytree=0.8, score=0.869399733620753, total= 7.0min\n",
      "[CV] subsample=1.0, reg_lambda=1, n_estimators=100, min_child_weight=1, max_depth=4, learning_rate=0.2, gamma=5, colsample_bytree=0.8 \n",
      "[CV]  subsample=0.6, reg_lambda=1, n_estimators=600, min_child_weight=5, max_depth=9, learning_rate=0.05, gamma=5, colsample_bytree=0.8, score=0.8733847693859917, total= 7.1min\n",
      "[CV] subsample=0.8, reg_lambda=1, n_estimators=600, min_child_weight=5, max_depth=10, learning_rate=0.2, gamma=2, colsample_bytree=0.6 \n",
      "[CV]  subsample=0.6, reg_lambda=1, n_estimators=600, min_child_weight=5, max_depth=9, learning_rate=0.05, gamma=5, colsample_bytree=0.8, score=0.8660246882304393, total= 7.1min\n",
      "[CV] subsample=0.8, reg_lambda=1, n_estimators=600, min_child_weight=5, max_depth=10, learning_rate=0.2, gamma=2, colsample_bytree=0.6 \n",
      "[CV]  subsample=1.0, reg_lambda=1, n_estimators=100, min_child_weight=10, max_depth=4, learning_rate=0.05, gamma=0.5, colsample_bytree=0.8, score=0.8657317703127689, total=  32.7s\n",
      "[CV] subsample=0.8, reg_lambda=1, n_estimators=600, min_child_weight=5, max_depth=10, learning_rate=0.2, gamma=2, colsample_bytree=0.6 \n",
      "[CV]  subsample=1.0, reg_lambda=1, n_estimators=100, min_child_weight=10, max_depth=4, learning_rate=0.05, gamma=0.5, colsample_bytree=0.8, score=0.8533990353500469, total=  33.4s\n",
      "[CV] subsample=0.8, reg_lambda=1, n_estimators=600, min_child_weight=5, max_depth=10, learning_rate=0.2, gamma=2, colsample_bytree=0.6 \n",
      "[CV]  subsample=1.0, reg_lambda=1, n_estimators=100, min_child_weight=10, max_depth=4, learning_rate=0.05, gamma=0.5, colsample_bytree=0.8, score=0.8615938959288003, total=  33.0s\n",
      "[CV] subsample=0.8, reg_lambda=1, n_estimators=600, min_child_weight=5, max_depth=10, learning_rate=0.2, gamma=2, colsample_bytree=0.6 \n",
      "[CV]  subsample=1.0, reg_lambda=1, n_estimators=100, min_child_weight=10, max_depth=4, learning_rate=0.05, gamma=0.5, colsample_bytree=0.8, score=0.8712835434724595, total=  32.7s\n",
      "[CV] subsample=0.8, reg_lambda=1, n_estimators=600, min_child_weight=10, max_depth=5, learning_rate=0.1, gamma=1, colsample_bytree=0.6 \n",
      "[CV]  subsample=1.0, reg_lambda=1, n_estimators=100, min_child_weight=10, max_depth=4, learning_rate=0.05, gamma=0.5, colsample_bytree=0.8, score=0.8649743049228552, total=  31.7s\n",
      "[CV] subsample=0.8, reg_lambda=1, n_estimators=600, min_child_weight=10, max_depth=5, learning_rate=0.1, gamma=1, colsample_bytree=0.6 \n",
      "[CV]  subsample=1.0, reg_lambda=1, n_estimators=100, min_child_weight=1, max_depth=4, learning_rate=0.2, gamma=5, colsample_bytree=0.8, score=0.8612568553678198, total=  33.0s\n",
      "[CV] subsample=0.8, reg_lambda=1, n_estimators=600, min_child_weight=10, max_depth=5, learning_rate=0.1, gamma=1, colsample_bytree=0.6 \n",
      "[CV]  subsample=1.0, reg_lambda=1, n_estimators=100, min_child_weight=1, max_depth=4, learning_rate=0.2, gamma=5, colsample_bytree=0.8, score=0.8550105786910132, total=  31.9s\n",
      "[CV] subsample=0.8, reg_lambda=1, n_estimators=600, min_child_weight=10, max_depth=5, learning_rate=0.1, gamma=1, colsample_bytree=0.6 \n",
      "[CV]  subsample=1.0, reg_lambda=1, n_estimators=100, min_child_weight=1, max_depth=4, learning_rate=0.2, gamma=5, colsample_bytree=0.8, score=0.8597962465636821, total=  32.3s\n",
      "[CV] subsample=0.8, reg_lambda=1, n_estimators=600, min_child_weight=10, max_depth=5, learning_rate=0.1, gamma=1, colsample_bytree=0.6 \n",
      "[CV]  subsample=1.0, reg_lambda=1, n_estimators=100, min_child_weight=1, max_depth=4, learning_rate=0.2, gamma=5, colsample_bytree=0.8, score=0.8701406670549008, total=  32.0s\n",
      "[CV] subsample=0.6, reg_lambda=1, n_estimators=50, min_child_weight=10, max_depth=5, learning_rate=0.1, gamma=5, colsample_bytree=0.8 \n",
      "[CV]  subsample=1.0, reg_lambda=1, n_estimators=100, min_child_weight=1, max_depth=4, learning_rate=0.2, gamma=5, colsample_bytree=0.8, score=0.8612803274360699, total=  32.0s\n",
      "[CV] subsample=0.6, reg_lambda=1, n_estimators=50, min_child_weight=10, max_depth=5, learning_rate=0.1, gamma=5, colsample_bytree=0.8 \n",
      "[CV]  subsample=0.6, reg_lambda=1, n_estimators=50, min_child_weight=10, max_depth=5, learning_rate=0.1, gamma=5, colsample_bytree=0.8, score=0.8626333716633581, total=  22.2s\n",
      "[CV] subsample=0.6, reg_lambda=1, n_estimators=50, min_child_weight=10, max_depth=5, learning_rate=0.1, gamma=5, colsample_bytree=0.8 \n",
      "[CV]  subsample=0.6, reg_lambda=1, n_estimators=50, min_child_weight=10, max_depth=5, learning_rate=0.1, gamma=5, colsample_bytree=0.8, score=0.8586675995178729, total=  21.9s\n",
      "[CV] subsample=0.6, reg_lambda=1, n_estimators=50, min_child_weight=10, max_depth=5, learning_rate=0.1, gamma=5, colsample_bytree=0.8 \n",
      "[CV]  subsample=0.6, reg_lambda=1, n_estimators=50, min_child_weight=10, max_depth=5, learning_rate=0.1, gamma=5, colsample_bytree=0.8, score=0.8629203071877205, total=  21.6s\n",
      "[CV] subsample=0.6, reg_lambda=1, n_estimators=50, min_child_weight=10, max_depth=5, learning_rate=0.1, gamma=5, colsample_bytree=0.8 \n",
      "[CV]  subsample=0.6, reg_lambda=1, n_estimators=50, min_child_weight=10, max_depth=5, learning_rate=0.1, gamma=5, colsample_bytree=0.8, score=0.8797489640202265, total=  21.8s\n",
      "[CV] subsample=0.8, reg_lambda=1, n_estimators=500, min_child_weight=1, max_depth=3, learning_rate=0.2, gamma=0.5, colsample_bytree=0.5 \n",
      "[CV]  subsample=0.8, reg_lambda=1, n_estimators=500, min_child_weight=1, max_depth=9, learning_rate=0.1, gamma=0, colsample_bytree=0.8, score=0.867546673897253, total= 5.7min\n",
      "[CV] subsample=0.8, reg_lambda=1, n_estimators=500, min_child_weight=1, max_depth=3, learning_rate=0.2, gamma=0.5, colsample_bytree=0.5 \n",
      "[CV]  subsample=0.8, reg_lambda=1, n_estimators=500, min_child_weight=1, max_depth=9, learning_rate=0.1, gamma=0, colsample_bytree=0.8, score=0.8615517524606096, total= 5.7min\n",
      "[CV] subsample=0.8, reg_lambda=1, n_estimators=500, min_child_weight=1, max_depth=3, learning_rate=0.2, gamma=0.5, colsample_bytree=0.5 \n",
      "[CV]  subsample=0.6, reg_lambda=1, n_estimators=50, min_child_weight=10, max_depth=5, learning_rate=0.1, gamma=5, colsample_bytree=0.8, score=0.8683447368264345, total=  21.8s\n",
      "[CV] subsample=0.8, reg_lambda=1, n_estimators=500, min_child_weight=1, max_depth=3, learning_rate=0.2, gamma=0.5, colsample_bytree=0.5 \n",
      "[CV]  subsample=0.8, reg_lambda=1, n_estimators=500, min_child_weight=1, max_depth=9, learning_rate=0.1, gamma=0, colsample_bytree=0.8, score=0.8636852010400968, total= 5.7min\n",
      "[CV] subsample=0.8, reg_lambda=1, n_estimators=500, min_child_weight=1, max_depth=3, learning_rate=0.2, gamma=0.5, colsample_bytree=0.5 \n",
      "[CV]  subsample=0.8, reg_lambda=1, n_estimators=500, min_child_weight=1, max_depth=9, learning_rate=0.1, gamma=0, colsample_bytree=0.8, score=0.86355705617188, total= 5.8min\n",
      "[CV] subsample=1.0, reg_lambda=1, n_estimators=50, min_child_weight=10, max_depth=5, learning_rate=0.2, gamma=1, colsample_bytree=0.8 \n",
      "[CV]  subsample=0.8, reg_lambda=1, n_estimators=500, min_child_weight=1, max_depth=9, learning_rate=0.1, gamma=0, colsample_bytree=0.8, score=0.8719720471476206, total= 5.8min\n",
      "[CV] subsample=1.0, reg_lambda=1, n_estimators=50, min_child_weight=10, max_depth=5, learning_rate=0.2, gamma=1, colsample_bytree=0.8 \n",
      "[CV]  subsample=1.0, reg_lambda=1, n_estimators=50, min_child_weight=10, max_depth=5, learning_rate=0.2, gamma=1, colsample_bytree=0.8, score=0.8561753232487765, total=  20.3s\n",
      "[CV] subsample=1.0, reg_lambda=1, n_estimators=50, min_child_weight=10, max_depth=5, learning_rate=0.2, gamma=1, colsample_bytree=0.8 \n",
      "[CV]  subsample=1.0, reg_lambda=1, n_estimators=50, min_child_weight=10, max_depth=5, learning_rate=0.2, gamma=1, colsample_bytree=0.8, score=0.8567631382592362, total=  19.3s\n",
      "[CV] subsample=1.0, reg_lambda=1, n_estimators=50, min_child_weight=10, max_depth=5, learning_rate=0.2, gamma=1, colsample_bytree=0.8 \n",
      "[CV]  subsample=1.0, reg_lambda=1, n_estimators=50, min_child_weight=10, max_depth=5, learning_rate=0.2, gamma=1, colsample_bytree=0.8, score=0.869715064638987, total=  20.3s\n",
      "[CV] subsample=1.0, reg_lambda=1, n_estimators=50, min_child_weight=10, max_depth=5, learning_rate=0.2, gamma=1, colsample_bytree=0.8 \n",
      "[CV]  subsample=1.0, reg_lambda=1, n_estimators=50, min_child_weight=10, max_depth=5, learning_rate=0.2, gamma=1, colsample_bytree=0.8, score=0.8548447741678183, total=  20.8s\n",
      "[CV] subsample=0.8, reg_lambda=1, n_estimators=500, min_child_weight=10, max_depth=5, learning_rate=0.2, gamma=0, colsample_bytree=0.8 \n",
      "[CV]  subsample=0.8, reg_lambda=1, n_estimators=500, min_child_weight=1, max_depth=3, learning_rate=0.2, gamma=0.5, colsample_bytree=0.5, score=0.8519299926176769, total= 1.4min\n",
      "[CV] subsample=0.8, reg_lambda=1, n_estimators=500, min_child_weight=10, max_depth=5, learning_rate=0.2, gamma=0, colsample_bytree=0.8 \n",
      "[CV]  subsample=0.8, reg_lambda=1, n_estimators=500, min_child_weight=1, max_depth=3, learning_rate=0.2, gamma=0.5, colsample_bytree=0.5, score=0.843666936494208, total= 1.4min\n",
      "[CV] subsample=0.8, reg_lambda=1, n_estimators=500, min_child_weight=10, max_depth=5, learning_rate=0.2, gamma=0, colsample_bytree=0.8 \n",
      "[CV]  subsample=0.8, reg_lambda=1, n_estimators=600, min_child_weight=5, max_depth=10, learning_rate=0.05, gamma=0.5, colsample_bytree=0.6, score=0.867119172071464, total= 5.8min\n",
      "[CV] subsample=0.8, reg_lambda=1, n_estimators=500, min_child_weight=10, max_depth=5, learning_rate=0.2, gamma=0, colsample_bytree=0.8 \n",
      "[CV]  subsample=1.0, reg_lambda=1, n_estimators=50, min_child_weight=10, max_depth=5, learning_rate=0.2, gamma=1, colsample_bytree=0.8, score=0.8591743037318899, total=  20.7s\n",
      "[CV] subsample=0.8, reg_lambda=1, n_estimators=500, min_child_weight=10, max_depth=5, learning_rate=0.2, gamma=0, colsample_bytree=0.8 \n",
      "[CV]  subsample=0.8, reg_lambda=1, n_estimators=600, min_child_weight=5, max_depth=10, learning_rate=0.05, gamma=0.5, colsample_bytree=0.6, score=0.8606591444817628, total= 5.8min\n",
      "[CV]  subsample=0.8, reg_lambda=1, n_estimators=500, min_child_weight=1, max_depth=3, learning_rate=0.2, gamma=0.5, colsample_bytree=0.5, score=0.8476660816700283, total= 1.4min\n",
      "[CV]  subsample=0.8, reg_lambda=1, n_estimators=600, min_child_weight=5, max_depth=10, learning_rate=0.05, gamma=0.5, colsample_bytree=0.6, score=0.8635532543703615, total= 5.8min\n",
      "[CV]  subsample=0.8, reg_lambda=1, n_estimators=600, min_child_weight=5, max_depth=10, learning_rate=0.05, gamma=0.5, colsample_bytree=0.6, score=0.8692449081269489, total= 5.8min\n",
      "[CV]  subsample=0.8, reg_lambda=1, n_estimators=600, min_child_weight=5, max_depth=10, learning_rate=0.05, gamma=0.5, colsample_bytree=0.6, score=0.8763600179764937, total= 5.8min\n",
      "[CV]  subsample=0.8, reg_lambda=1, n_estimators=500, min_child_weight=1, max_depth=3, learning_rate=0.2, gamma=0.5, colsample_bytree=0.5, score=0.8599529952390069, total= 1.4min\n",
      "[CV]  subsample=0.8, reg_lambda=1, n_estimators=500, min_child_weight=1, max_depth=3, learning_rate=0.2, gamma=0.5, colsample_bytree=0.5, score=0.8476378195012635, total= 1.4min\n",
      "[CV]  subsample=0.6, reg_lambda=1, n_estimators=600, min_child_weight=10, max_depth=7, learning_rate=0.05, gamma=5, colsample_bytree=0.8, score=0.863988611826363, total= 5.7min\n",
      "[CV]  subsample=0.6, reg_lambda=1, n_estimators=600, min_child_weight=10, max_depth=7, learning_rate=0.05, gamma=5, colsample_bytree=0.8, score=0.8731486542927809, total= 5.6min\n",
      "[CV]  subsample=0.8, reg_lambda=1, n_estimators=600, min_child_weight=10, max_depth=5, learning_rate=0.1, gamma=1, colsample_bytree=0.6, score=0.8648409745005621, total= 2.9min\n",
      "[CV]  subsample=0.8, reg_lambda=1, n_estimators=600, min_child_weight=10, max_depth=5, learning_rate=0.1, gamma=1, colsample_bytree=0.6, score=0.8536419790959524, total= 2.9min\n",
      "[CV]  subsample=0.6, reg_lambda=1, n_estimators=600, min_child_weight=10, max_depth=7, learning_rate=0.05, gamma=5, colsample_bytree=0.8, score=0.8651574480918826, total= 5.7min\n",
      "[CV]  subsample=0.6, reg_lambda=1, n_estimators=600, min_child_weight=10, max_depth=7, learning_rate=0.05, gamma=5, colsample_bytree=0.8, score=0.8590025749068304, total= 5.7min\n",
      "[CV]  subsample=0.8, reg_lambda=1, n_estimators=600, min_child_weight=10, max_depth=5, learning_rate=0.1, gamma=1, colsample_bytree=0.6, score=0.857841788699306, total= 3.0min\n",
      "[CV]  subsample=0.8, reg_lambda=1, n_estimators=600, min_child_weight=10, max_depth=5, learning_rate=0.1, gamma=1, colsample_bytree=0.6, score=0.8554152202963742, total= 2.9min\n",
      "[CV]  subsample=0.6, reg_lambda=1, n_estimators=600, min_child_weight=10, max_depth=7, learning_rate=0.05, gamma=5, colsample_bytree=0.8, score=0.8653881653774468, total= 5.7min\n",
      "[CV]  subsample=0.8, reg_lambda=1, n_estimators=600, min_child_weight=10, max_depth=5, learning_rate=0.1, gamma=1, colsample_bytree=0.6, score=0.8560490121935, total= 2.9min\n",
      "[CV]  subsample=0.6, reg_lambda=1, n_estimators=500, min_child_weight=1, max_depth=9, learning_rate=0.2, gamma=5, colsample_bytree=0.5, score=0.8526048913333901, total= 3.9min\n",
      "[CV]  subsample=0.6, reg_lambda=1, n_estimators=500, min_child_weight=1, max_depth=9, learning_rate=0.2, gamma=5, colsample_bytree=0.5, score=0.8446723574548599, total= 4.1min\n",
      "[CV]  subsample=0.6, reg_lambda=1, n_estimators=500, min_child_weight=1, max_depth=9, learning_rate=0.2, gamma=5, colsample_bytree=0.5, score=0.8554092678150327, total= 4.0min\n",
      "[CV]  subsample=0.6, reg_lambda=1, n_estimators=500, min_child_weight=1, max_depth=9, learning_rate=0.2, gamma=5, colsample_bytree=0.5, score=0.8538636068267023, total= 3.9min\n",
      "[CV]  subsample=0.6, reg_lambda=1, n_estimators=500, min_child_weight=1, max_depth=9, learning_rate=0.2, gamma=5, colsample_bytree=0.5, score=0.853059689197746, total= 3.9min\n",
      "[CV]  subsample=0.8, reg_lambda=1, n_estimators=500, min_child_weight=10, max_depth=5, learning_rate=0.2, gamma=0, colsample_bytree=0.8, score=0.8562802195301042, total= 2.1min\n",
      "[CV]  subsample=0.8, reg_lambda=1, n_estimators=600, min_child_weight=5, max_depth=10, learning_rate=0.2, gamma=2, colsample_bytree=0.6, score=0.855442038867041, total= 4.7min\n",
      "[CV]  subsample=0.8, reg_lambda=1, n_estimators=600, min_child_weight=5, max_depth=10, learning_rate=0.2, gamma=2, colsample_bytree=0.6, score=0.8540892726729353, total= 4.7min\n",
      "[CV]  subsample=0.8, reg_lambda=1, n_estimators=500, min_child_weight=10, max_depth=5, learning_rate=0.2, gamma=0, colsample_bytree=0.8, score=0.8387447279722757, total= 2.1min\n",
      "[CV]  subsample=0.8, reg_lambda=1, n_estimators=500, min_child_weight=10, max_depth=5, learning_rate=0.2, gamma=0, colsample_bytree=0.8, score=0.8562535280852951, total= 2.0min\n",
      "[CV]  subsample=0.8, reg_lambda=1, n_estimators=500, min_child_weight=10, max_depth=5, learning_rate=0.2, gamma=0, colsample_bytree=0.8, score=0.8539975744005971, total= 2.0min\n",
      "[CV]  subsample=0.8, reg_lambda=1, n_estimators=500, min_child_weight=10, max_depth=5, learning_rate=0.2, gamma=0, colsample_bytree=0.8, score=0.8577932365922839, total= 2.0min\n",
      "[CV]  subsample=0.8, reg_lambda=1, n_estimators=600, min_child_weight=5, max_depth=10, learning_rate=0.2, gamma=2, colsample_bytree=0.6, score=0.8647546635211109, total= 4.5min\n",
      "[CV]  subsample=0.8, reg_lambda=1, n_estimators=600, min_child_weight=5, max_depth=10, learning_rate=0.2, gamma=2, colsample_bytree=0.6, score=0.861017322590826, total= 4.5min\n",
      "[CV]  subsample=0.8, reg_lambda=1, n_estimators=600, min_child_weight=5, max_depth=10, learning_rate=0.2, gamma=2, colsample_bytree=0.6, score=0.8560779298857224, total= 4.6min\n"
     ]
    },
    {
     "name": "stderr",
     "output_type": "stream",
     "text": [
      "[Parallel(n_jobs=-1)]: Done 200 out of 200 | elapsed: 11.9min finished\n"
     ]
    },
    {
     "name": "stdout",
     "output_type": "stream",
     "text": [
      "CPU times: user 1min 19s, sys: 1.6 s, total: 1min 20s\n",
      "Wall time: 12min 55s\n"
     ]
    },
    {
     "data": {
      "text/plain": [
       "RandomizedSearchCV(cv=<generator object _BaseKFold.split at 0x7f80b1741780>,\n",
       "          error_score='raise',\n",
       "          estimator=XGBClassifier(base_score=0.5, booster='gbtree', colsample_bylevel=1,\n",
       "       colsample_bytree=1, gamma=0, learning_rate=0.1, max_delta_step=0,\n",
       "       max_depth=3, min_child_weight=1, missing=None, n_estimators=100,\n",
       "       n_jobs=1, nthread=-1, objective='binary:logistic', random_state=0,\n",
       "       reg_alpha=0, reg_lambda=1, scale_pos_weight=1, seed=None,\n",
       "       silent=True, subsample=1),\n",
       "          fit_params=None, iid=True, n_iter=40, n_jobs=-1,\n",
       "          param_distributions={'learning_rate': [0.1, 0.05, 0.2], 'n_estimators': [50, 100, 500, 600], 'min_child_weight': [1, 5, 10], 'gamma': [0, 0.5, 1, 1.5, 2, 5], 'subsample': [0.6, 0.8, 1.0], 'colsample_bytree': [0.5, 0.6, 0.8], 'max_depth': [3, 4, 5, 6, 7, 8, 9, 10], 'reg_lambda': [1]},\n",
       "          pre_dispatch='2*n_jobs', random_state=1001, refit=True,\n",
       "          return_train_score='warn', scoring='roc_auc', verbose=3)"
      ]
     },
     "execution_count": 136,
     "metadata": {},
     "output_type": "execute_result"
    }
   ],
   "source": [
    "%%time\n",
    "random_search.fit(train_X, train_y)"
   ]
  },
  {
   "cell_type": "markdown",
   "metadata": {},
   "source": [
    "Best from previous run. Scores AUC of ROC = 0.87, AUC of PRC = 0.536, min(+P, Se) = 0.508 on test.\n",
    "\n",
    "```XGBClassifier(base_score=0.5, booster='gbtree', colsample_bylevel=1,\n",
    "       colsample_bytree=0.8, gamma=1.5, learning_rate=0.02,\n",
    "       max_delta_step=0, max_depth=5, min_child_weight=1, missing=None,\n",
    "       n_estimators=600, n_jobs=1, nthread=4, objective='binary:logistic',\n",
    "       random_state=0, reg_alpha=0, reg_lambda=1, scale_pos_weight=1,\n",
    "       seed=None, silent=True, subsample=0.6)```"
   ]
  },
  {
   "cell_type": "code",
   "execution_count": 144,
   "metadata": {},
   "outputs": [
    {
     "name": "stdout",
     "output_type": "stream",
     "text": [
      "\n",
      " Best estimator:\n",
      "XGBClassifier(base_score=0.5, booster='gbtree', colsample_bylevel=1,\n",
      "       colsample_bytree=0.5, gamma=1, learning_rate=0.05, max_delta_step=0,\n",
      "       max_depth=3, min_child_weight=1, missing=None, n_estimators=500,\n",
      "       n_jobs=1, nthread=-1, objective='binary:logistic', random_state=0,\n",
      "       reg_alpha=0, reg_lambda=1, scale_pos_weight=1, seed=None,\n",
      "       silent=True, subsample=0.6)\n"
     ]
    }
   ],
   "source": [
    "print('\\n Best estimator:')\n",
    "print(random_search.best_estimator_)"
   ]
  },
  {
   "cell_type": "code",
   "execution_count": 138,
   "metadata": {},
   "outputs": [
    {
     "name": "stdout",
     "output_type": "stream",
     "text": [
      "\n",
      " Best normalized gini score for 5-fold search with 40 parameter combinations:\n",
      "0.7397114839572771\n"
     ]
    }
   ],
   "source": [
    "print('\\n Best normalized gini score for %d-fold search with %d parameter combinations:' % (folds, param_comb))\n",
    "print(random_search.best_score_ * 2 - 1)"
   ]
  },
  {
   "cell_type": "code",
   "execution_count": 139,
   "metadata": {},
   "outputs": [
    {
     "name": "stdout",
     "output_type": "stream",
     "text": [
      "\n",
      " Best hyperparameters:\n",
      "{'subsample': 0.6, 'reg_lambda': 1, 'n_estimators': 500, 'min_child_weight': 1, 'max_depth': 3, 'learning_rate': 0.05, 'gamma': 1, 'colsample_bytree': 0.5}\n"
     ]
    }
   ],
   "source": [
    "print('\\n Best hyperparameters:')\n",
    "print(random_search.best_params_)"
   ]
  },
  {
   "cell_type": "code",
   "execution_count": 140,
   "metadata": {},
   "outputs": [],
   "source": [
    "results = pd.DataFrame(random_search.cv_results_)"
   ]
  },
  {
   "cell_type": "code",
   "execution_count": null,
   "metadata": {},
   "outputs": [],
   "source": [
    "results.head()"
   ]
  },
  {
   "cell_type": "markdown",
   "metadata": {},
   "source": [
    "**Predict on test:**"
   ]
  },
  {
   "cell_type": "code",
   "execution_count": 145,
   "metadata": {},
   "outputs": [],
   "source": [
    "test_proba_xg_best = random_search.predict_proba(test_X)"
   ]
  },
  {
   "cell_type": "code",
   "execution_count": 146,
   "metadata": {},
   "outputs": [
    {
     "name": "stdout",
     "output_type": "stream",
     "text": [
      "confusion matrix:\n",
      "[[2793   69]\n",
      " [ 243  131]]\n",
      "accuracy = 0.90358466\n",
      "precision class 0 = 0.9199605\n",
      "precision class 1 = 0.655\n",
      "recall class 0 = 0.975891\n",
      "recall class 1 = 0.35026738\n",
      "AUC of ROC = 0.8708795315343595\n",
      "AUC of PRC = 0.5365112671413969\n",
      "min(+P, Se) = 0.5\n"
     ]
    }
   ],
   "source": [
    "metrics_xg_best = print_metrics_binary(test_y, test_proba_xg_best)"
   ]
  },
  {
   "cell_type": "code",
   "execution_count": null,
   "metadata": {},
   "outputs": [],
   "source": []
  }
 ],
 "metadata": {
  "kernelspec": {
   "display_name": "Fast.ai",
   "language": "python",
   "name": "fastai"
  },
  "language_info": {
   "codemirror_mode": {
    "name": "ipython",
    "version": 3
   },
   "file_extension": ".py",
   "mimetype": "text/x-python",
   "name": "python",
   "nbconvert_exporter": "python",
   "pygments_lexer": "ipython3",
   "version": "3.6.5"
  }
 },
 "nbformat": 4,
 "nbformat_minor": 2
}
